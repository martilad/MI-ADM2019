{
 "cells": [
  {
   "cell_type": "markdown",
   "metadata": {},
   "source": [
    "# MI-ADM: home assignment 1\n",
    "\n",
    "  * **Deadline**: 15/04/2019, -2 points for a late submission, the hard deadline is the first day of the exam period.\n",
    "  * **What to submit**: Just this notebook with you code and texts, not the dataset!\n",
    "  * **How to submit**: See the instructions at https://courses.fit.cvut.cz/MI-ADM/tutorials/index.html.\n",
    "  \n",
    "Generally speaking, the goal of this assignment is to use **decision trees and related methods (boosted trees, random forests) for the regression problem**.\n",
    "\n",
    "What to do:\n",
    "  * Study the data from `house-prices.csv` (see also `house-prices_description.txt`) and prepare them for application of the algorithms (decision tree, random forest, XGBoost).\n",
    "  * Treat the missing values and nominal/ordinal variables reasonably; experiment with various approaches.\n",
    "  * Try to replace the continuous features with some discrete ones (indicator variables, dummy variables, binning, ...). \n",
    "  * Tune some reasonably selected hyperparameters (using cross-validation or just a validation set) and measure the results using *Root mean squared logarithmic error (RMSLE)*."
   ]
  },
  {
   "cell_type": "code",
   "execution_count": 1,
   "metadata": {},
   "outputs": [],
   "source": [
    "import math\n",
    "import pandas as pd\n",
    "import numpy as np\n",
    "import pydotplus\n",
    "import xgboost\n",
    "import matplotlib.pyplot as plt\n",
    "import sklearn.metrics as metrics\n",
    "from matplotlib.ticker import FormatStrFormatter\n",
    "from sklearn.metrics import make_scorer, mean_squared_error\n",
    "from sklearn import tree\n",
    "from sklearn.preprocessing import KBinsDiscretizer\n",
    "from sklearn.metrics import mean_squared_error\n",
    "from sklearn.tree import DecisionTreeRegressor\n",
    "from sklearn.ensemble import GradientBoostingRegressor\n",
    "from sklearn.externals.six import StringIO  \n",
    "from sklearn.model_selection import train_test_split\n",
    "from sklearn.ensemble import RandomForestRegressor\n",
    "from IPython.display import Image  \n",
    "from pandas.api.types import CategoricalDtype\n",
    "from sklearn.model_selection import cross_validate"
   ]
  },
  {
   "cell_type": "code",
   "execution_count": 2,
   "metadata": {},
   "outputs": [],
   "source": [
    "data = pd.read_csv('house-prices.csv')\n",
    "# the logarithm of SalesPrice must be used to evaluate RMSLE properly\n",
    "# you can comment out the following line and apply the log just before evaluating RMSLE\n",
    "data.SalePrice = data.SalePrice.apply(math.log) "
   ]
  },
  {
   "cell_type": "markdown",
   "metadata": {},
   "source": [
    "## Prepare the dataset"
   ]
  },
  {
   "cell_type": "code",
   "execution_count": 3,
   "metadata": {},
   "outputs": [
    {
     "name": "stdout",
     "output_type": "stream",
     "text": [
      "<class 'pandas.core.frame.DataFrame'>\n",
      "RangeIndex: 1460 entries, 0 to 1459\n",
      "Data columns (total 81 columns):\n",
      "Id               1460 non-null int64\n",
      "MSSubClass       1460 non-null int64\n",
      "MSZoning         1460 non-null object\n",
      "LotFrontage      1201 non-null float64\n",
      "LotArea          1460 non-null int64\n",
      "Street           1460 non-null object\n",
      "Alley            91 non-null object\n",
      "LotShape         1460 non-null object\n",
      "LandContour      1460 non-null object\n",
      "Utilities        1460 non-null object\n",
      "LotConfig        1460 non-null object\n",
      "LandSlope        1460 non-null object\n",
      "Neighborhood     1460 non-null object\n",
      "Condition1       1460 non-null object\n",
      "Condition2       1460 non-null object\n",
      "BldgType         1460 non-null object\n",
      "HouseStyle       1460 non-null object\n",
      "OverallQual      1460 non-null int64\n",
      "OverallCond      1460 non-null int64\n",
      "YearBuilt        1460 non-null int64\n",
      "YearRemodAdd     1460 non-null int64\n",
      "RoofStyle        1460 non-null object\n",
      "RoofMatl         1460 non-null object\n",
      "Exterior1st      1460 non-null object\n",
      "Exterior2nd      1460 non-null object\n",
      "MasVnrType       1452 non-null object\n",
      "MasVnrArea       1452 non-null float64\n",
      "ExterQual        1460 non-null object\n",
      "ExterCond        1460 non-null object\n",
      "Foundation       1460 non-null object\n",
      "BsmtQual         1423 non-null object\n",
      "BsmtCond         1423 non-null object\n",
      "BsmtExposure     1422 non-null object\n",
      "BsmtFinType1     1423 non-null object\n",
      "BsmtFinSF1       1460 non-null int64\n",
      "BsmtFinType2     1422 non-null object\n",
      "BsmtFinSF2       1460 non-null int64\n",
      "BsmtUnfSF        1460 non-null int64\n",
      "TotalBsmtSF      1460 non-null int64\n",
      "Heating          1460 non-null object\n",
      "HeatingQC        1460 non-null object\n",
      "CentralAir       1460 non-null object\n",
      "Electrical       1459 non-null object\n",
      "1stFlrSF         1460 non-null int64\n",
      "2ndFlrSF         1460 non-null int64\n",
      "LowQualFinSF     1460 non-null int64\n",
      "GrLivArea        1460 non-null int64\n",
      "BsmtFullBath     1460 non-null int64\n",
      "BsmtHalfBath     1460 non-null int64\n",
      "FullBath         1460 non-null int64\n",
      "HalfBath         1460 non-null int64\n",
      "BedroomAbvGr     1460 non-null int64\n",
      "KitchenAbvGr     1460 non-null int64\n",
      "KitchenQual      1460 non-null object\n",
      "TotRmsAbvGrd     1460 non-null int64\n",
      "Functional       1460 non-null object\n",
      "Fireplaces       1460 non-null int64\n",
      "FireplaceQu      770 non-null object\n",
      "GarageType       1379 non-null object\n",
      "GarageYrBlt      1379 non-null float64\n",
      "GarageFinish     1379 non-null object\n",
      "GarageCars       1460 non-null int64\n",
      "GarageArea       1460 non-null int64\n",
      "GarageQual       1379 non-null object\n",
      "GarageCond       1379 non-null object\n",
      "PavedDrive       1460 non-null object\n",
      "WoodDeckSF       1460 non-null int64\n",
      "OpenPorchSF      1460 non-null int64\n",
      "EnclosedPorch    1460 non-null int64\n",
      "3SsnPorch        1460 non-null int64\n",
      "ScreenPorch      1460 non-null int64\n",
      "PoolArea         1460 non-null int64\n",
      "PoolQC           7 non-null object\n",
      "Fence            281 non-null object\n",
      "MiscFeature      54 non-null object\n",
      "MiscVal          1460 non-null int64\n",
      "MoSold           1460 non-null int64\n",
      "YrSold           1460 non-null int64\n",
      "SaleType         1460 non-null object\n",
      "SaleCondition    1460 non-null object\n",
      "SalePrice        1460 non-null float64\n",
      "dtypes: float64(4), int64(34), object(43)\n",
      "memory usage: 924.0+ KB\n"
     ]
    }
   ],
   "source": [
    "data.info()"
   ]
  },
  {
   "cell_type": "markdown",
   "metadata": {},
   "source": [
    "### Check nan values in continuous features; here I expect a bigger problem with solutions than with categorical attributes."
   ]
  },
  {
   "cell_type": "code",
   "execution_count": 4,
   "metadata": {},
   "outputs": [
    {
     "data": {
      "text/plain": [
       "array([ 65.,  80.,  68.,  60.,  84.,  85.,  75.,  nan,  51.,  50.,  70.,\n",
       "        91.,  72.,  66., 101.,  57.,  44., 110.,  98.,  47., 108., 112.,\n",
       "        74., 115.,  61.,  48.,  33.,  52., 100.,  24.,  89.,  63.,  76.,\n",
       "        81.,  95.,  69.,  21.,  32.,  78., 121., 122.,  40., 105.,  73.,\n",
       "        77.,  64.,  94.,  34.,  90.,  55.,  88.,  82.,  71., 120., 107.,\n",
       "        92., 134.,  62.,  86., 141.,  97.,  54.,  41.,  79., 174.,  99.,\n",
       "        67.,  83.,  43., 103.,  93.,  30., 129., 140.,  35.,  37., 118.,\n",
       "        87., 116., 150., 111.,  49.,  96.,  59.,  36.,  56., 102.,  58.,\n",
       "        38., 109., 130.,  53., 137.,  45., 106., 104.,  42.,  39., 144.,\n",
       "       114., 128., 149., 313., 168., 182., 138., 160., 152., 124., 153.,\n",
       "        46.])"
      ]
     },
     "metadata": {},
     "output_type": "display_data"
    },
    {
     "data": {
      "text/plain": [
       "array([1.960e+02, 0.000e+00, 1.620e+02, 3.500e+02, 1.860e+02, 2.400e+02,\n",
       "       2.860e+02, 3.060e+02, 2.120e+02, 1.800e+02, 3.800e+02, 2.810e+02,\n",
       "       6.400e+02, 2.000e+02, 2.460e+02, 1.320e+02, 6.500e+02, 1.010e+02,\n",
       "       4.120e+02, 2.720e+02, 4.560e+02, 1.031e+03, 1.780e+02, 5.730e+02,\n",
       "       3.440e+02, 2.870e+02, 1.670e+02, 1.115e+03, 4.000e+01, 1.040e+02,\n",
       "       5.760e+02, 4.430e+02, 4.680e+02, 6.600e+01, 2.200e+01, 2.840e+02,\n",
       "       7.600e+01, 2.030e+02, 6.800e+01, 1.830e+02, 4.800e+01, 2.800e+01,\n",
       "       3.360e+02, 6.000e+02, 7.680e+02, 4.800e+02, 2.200e+02, 1.840e+02,\n",
       "       1.129e+03, 1.160e+02, 1.350e+02, 2.660e+02, 8.500e+01, 3.090e+02,\n",
       "       1.360e+02, 2.880e+02, 7.000e+01, 3.200e+02, 5.000e+01, 1.200e+02,\n",
       "       4.360e+02, 2.520e+02, 8.400e+01, 6.640e+02, 2.260e+02, 3.000e+02,\n",
       "       6.530e+02, 1.120e+02, 4.910e+02, 2.680e+02, 7.480e+02, 9.800e+01,\n",
       "       2.750e+02, 1.380e+02, 2.050e+02, 2.620e+02, 1.280e+02, 2.600e+02,\n",
       "       1.530e+02, 6.400e+01, 3.120e+02, 1.600e+01, 9.220e+02, 1.420e+02,\n",
       "       2.900e+02, 1.270e+02, 5.060e+02, 2.970e+02,       nan, 6.040e+02,\n",
       "       2.540e+02, 3.600e+01, 1.020e+02, 4.720e+02, 4.810e+02, 1.080e+02,\n",
       "       3.020e+02, 1.720e+02, 3.990e+02, 2.700e+02, 4.600e+01, 2.100e+02,\n",
       "       1.740e+02, 3.480e+02, 3.150e+02, 2.990e+02, 3.400e+02, 1.660e+02,\n",
       "       7.200e+01, 3.100e+01, 3.400e+01, 2.380e+02, 1.600e+03, 3.650e+02,\n",
       "       5.600e+01, 1.500e+02, 2.780e+02, 2.560e+02, 2.250e+02, 3.700e+02,\n",
       "       3.880e+02, 1.750e+02, 2.960e+02, 1.460e+02, 1.130e+02, 1.760e+02,\n",
       "       6.160e+02, 3.000e+01, 1.060e+02, 8.700e+02, 3.620e+02, 5.300e+02,\n",
       "       5.000e+02, 5.100e+02, 2.470e+02, 3.050e+02, 2.550e+02, 1.250e+02,\n",
       "       1.000e+02, 4.320e+02, 1.260e+02, 4.730e+02, 7.400e+01, 1.450e+02,\n",
       "       2.320e+02, 3.760e+02, 4.200e+01, 1.610e+02, 1.100e+02, 1.800e+01,\n",
       "       2.240e+02, 2.480e+02, 8.000e+01, 3.040e+02, 2.150e+02, 7.720e+02,\n",
       "       4.350e+02, 3.780e+02, 5.620e+02, 1.680e+02, 8.900e+01, 2.850e+02,\n",
       "       3.600e+02, 9.400e+01, 3.330e+02, 9.210e+02, 7.620e+02, 5.940e+02,\n",
       "       2.190e+02, 1.880e+02, 4.790e+02, 5.840e+02, 1.820e+02, 2.500e+02,\n",
       "       2.920e+02, 2.450e+02, 2.070e+02, 8.200e+01, 9.700e+01, 3.350e+02,\n",
       "       2.080e+02, 4.200e+02, 1.700e+02, 4.590e+02, 2.800e+02, 9.900e+01,\n",
       "       1.920e+02, 2.040e+02, 2.330e+02, 1.560e+02, 4.520e+02, 5.130e+02,\n",
       "       2.610e+02, 1.640e+02, 2.590e+02, 2.090e+02, 2.630e+02, 2.160e+02,\n",
       "       3.510e+02, 6.600e+02, 3.810e+02, 5.400e+01, 5.280e+02, 2.580e+02,\n",
       "       4.640e+02, 5.700e+01, 1.470e+02, 1.170e+03, 2.930e+02, 6.300e+02,\n",
       "       4.660e+02, 1.090e+02, 4.100e+01, 1.600e+02, 2.890e+02, 6.510e+02,\n",
       "       1.690e+02, 9.500e+01, 4.420e+02, 2.020e+02, 3.380e+02, 8.940e+02,\n",
       "       3.280e+02, 6.730e+02, 6.030e+02, 1.000e+00, 3.750e+02, 9.000e+01,\n",
       "       3.800e+01, 1.570e+02, 1.100e+01, 1.400e+02, 1.300e+02, 1.480e+02,\n",
       "       8.600e+02, 4.240e+02, 1.047e+03, 2.430e+02, 8.160e+02, 3.870e+02,\n",
       "       2.230e+02, 1.580e+02, 1.370e+02, 1.150e+02, 1.890e+02, 2.740e+02,\n",
       "       1.170e+02, 6.000e+01, 1.220e+02, 9.200e+01, 4.150e+02, 7.600e+02,\n",
       "       2.700e+01, 7.500e+01, 3.610e+02, 1.050e+02, 3.420e+02, 2.980e+02,\n",
       "       5.410e+02, 2.360e+02, 1.440e+02, 4.230e+02, 4.400e+01, 1.510e+02,\n",
       "       9.750e+02, 4.500e+02, 2.300e+02, 5.710e+02, 2.400e+01, 5.300e+01,\n",
       "       2.060e+02, 1.400e+01, 3.240e+02, 2.950e+02, 3.960e+02, 6.700e+01,\n",
       "       1.540e+02, 4.250e+02, 4.500e+01, 1.378e+03, 3.370e+02, 1.490e+02,\n",
       "       1.430e+02, 5.100e+01, 1.710e+02, 2.340e+02, 6.300e+01, 7.660e+02,\n",
       "       3.200e+01, 8.100e+01, 1.630e+02, 5.540e+02, 2.180e+02, 6.320e+02,\n",
       "       1.140e+02, 5.670e+02, 3.590e+02, 4.510e+02, 6.210e+02, 7.880e+02,\n",
       "       8.600e+01, 7.960e+02, 3.910e+02, 2.280e+02, 8.800e+01, 1.650e+02,\n",
       "       4.280e+02, 4.100e+02, 5.640e+02, 3.680e+02, 3.180e+02, 5.790e+02,\n",
       "       6.500e+01, 7.050e+02, 4.080e+02, 2.440e+02, 1.230e+02, 3.660e+02,\n",
       "       7.310e+02, 4.480e+02, 2.940e+02, 3.100e+02, 2.370e+02, 4.260e+02,\n",
       "       9.600e+01, 4.380e+02, 1.940e+02, 1.190e+02])"
      ]
     },
     "metadata": {},
     "output_type": "display_data"
    },
    {
     "data": {
      "text/plain": [
       "array([2003., 1976., 2001., 1998., 2000., 1993., 2004., 1973., 1931.,\n",
       "       1939., 1965., 2005., 1962., 2006., 1960., 1991., 1970., 1967.,\n",
       "       1958., 1930., 2002., 1968., 2007., 2008., 1957., 1920., 1966.,\n",
       "       1959., 1995., 1954., 1953.,   nan, 1983., 1977., 1997., 1985.,\n",
       "       1963., 1981., 1964., 1999., 1935., 1990., 1945., 1987., 1989.,\n",
       "       1915., 1956., 1948., 1974., 2009., 1950., 1961., 1921., 1900.,\n",
       "       1979., 1951., 1969., 1936., 1975., 1971., 1923., 1984., 1926.,\n",
       "       1955., 1986., 1988., 1916., 1932., 1972., 1918., 1980., 1924.,\n",
       "       1996., 1940., 1949., 1994., 1910., 1978., 1982., 1992., 1925.,\n",
       "       1941., 2010., 1927., 1947., 1937., 1942., 1938., 1952., 1928.,\n",
       "       1922., 1934., 1906., 1914., 1946., 1908., 1929., 1933.])"
      ]
     },
     "metadata": {},
     "output_type": "display_data"
    }
   ],
   "source": [
    "col_con = ['LotFrontage', 'MasVnrArea', 'GarageYrBlt']\n",
    "for i in col_con:\n",
    "    display(data[i].unique())"
   ]
  },
  {
   "cell_type": "markdown",
   "metadata": {},
   "source": [
    "### Check nan values in categorical features; There nan can be proper value -> house don't have the poll for example"
   ]
  },
  {
   "cell_type": "code",
   "execution_count": 5,
   "metadata": {},
   "outputs": [
    {
     "data": {
      "text/plain": [
       "\"Alley  [nan 'Grvl' 'Pave']\""
      ]
     },
     "metadata": {},
     "output_type": "display_data"
    },
    {
     "data": {
      "text/plain": [
       "\"MasVnrType  ['BrkFace' 'None' 'Stone' 'BrkCmn' nan]\""
      ]
     },
     "metadata": {},
     "output_type": "display_data"
    },
    {
     "data": {
      "text/plain": [
       "\"BsmtQual  ['Gd' 'TA' 'Ex' nan 'Fa']\""
      ]
     },
     "metadata": {},
     "output_type": "display_data"
    },
    {
     "data": {
      "text/plain": [
       "\"BsmtCond  ['TA' 'Gd' nan 'Fa' 'Po']\""
      ]
     },
     "metadata": {},
     "output_type": "display_data"
    },
    {
     "data": {
      "text/plain": [
       "\"BsmtExposure  ['No' 'Gd' 'Mn' 'Av' nan]\""
      ]
     },
     "metadata": {},
     "output_type": "display_data"
    },
    {
     "data": {
      "text/plain": [
       "\"BsmtFinType1  ['GLQ' 'ALQ' 'Unf' 'Rec' 'BLQ' nan 'LwQ']\""
      ]
     },
     "metadata": {},
     "output_type": "display_data"
    },
    {
     "data": {
      "text/plain": [
       "\"BsmtFinType2  ['Unf' 'BLQ' nan 'ALQ' 'Rec' 'LwQ' 'GLQ']\""
      ]
     },
     "metadata": {},
     "output_type": "display_data"
    },
    {
     "data": {
      "text/plain": [
       "\"Electrical  ['SBrkr' 'FuseF' 'FuseA' 'FuseP' 'Mix' nan]\""
      ]
     },
     "metadata": {},
     "output_type": "display_data"
    },
    {
     "data": {
      "text/plain": [
       "\"FireplaceQu  [nan 'TA' 'Gd' 'Fa' 'Ex' 'Po']\""
      ]
     },
     "metadata": {},
     "output_type": "display_data"
    },
    {
     "data": {
      "text/plain": [
       "\"GarageType  ['Attchd' 'Detchd' 'BuiltIn' 'CarPort' nan 'Basment' '2Types']\""
      ]
     },
     "metadata": {},
     "output_type": "display_data"
    },
    {
     "data": {
      "text/plain": [
       "\"GarageFinish  ['RFn' 'Unf' 'Fin' nan]\""
      ]
     },
     "metadata": {},
     "output_type": "display_data"
    },
    {
     "data": {
      "text/plain": [
       "\"GarageQual  ['TA' 'Fa' 'Gd' nan 'Ex' 'Po']\""
      ]
     },
     "metadata": {},
     "output_type": "display_data"
    },
    {
     "data": {
      "text/plain": [
       "\"GarageCond  ['TA' 'Fa' nan 'Gd' 'Po' 'Ex']\""
      ]
     },
     "metadata": {},
     "output_type": "display_data"
    },
    {
     "data": {
      "text/plain": [
       "\"PoolQC  [nan 'Ex' 'Fa' 'Gd']\""
      ]
     },
     "metadata": {},
     "output_type": "display_data"
    },
    {
     "data": {
      "text/plain": [
       "\"Fence  [nan 'MnPrv' 'GdWo' 'GdPrv' 'MnWw']\""
      ]
     },
     "metadata": {},
     "output_type": "display_data"
    },
    {
     "data": {
      "text/plain": [
       "\"MiscFeature  [nan 'Shed' 'Gar2' 'Othr' 'TenC']\""
      ]
     },
     "metadata": {},
     "output_type": "display_data"
    }
   ],
   "source": [
    "col_cat = ['Alley', 'MasVnrType', 'BsmtQual', 'BsmtCond', 'BsmtExposure', 'BsmtFinType1', \n",
    "       'BsmtFinType2', 'Electrical', 'FireplaceQu', 'GarageType', 'GarageFinish', 'GarageQual', \n",
    "       'GarageCond', 'PoolQC', 'Fence', 'MiscFeature']\n",
    "for i in col_cat:\n",
    "    display(i + \"  \" + str(data[i].unique()))"
   ]
  },
  {
   "cell_type": "markdown",
   "metadata": {},
   "source": [
    "In the categorical attributes there nan is one of the categories in a lot of attributes. For example alley, but on the other hand, there are some attributes to repair. For example, `MasVnrType` which have None values and nan values, this can be the same values probably.\n",
    "\n",
    "`Electrical` is the second attribute with some problem with nan. Nan is not specific in description. There is probably a house without an electrical connection between the homes being sold. I will count on this and leave it as a separate categorical when converting."
   ]
  },
  {
   "cell_type": "markdown",
   "metadata": {},
   "source": [
    "### Solve nan values"
   ]
  },
  {
   "cell_type": "code",
   "execution_count": 6,
   "metadata": {},
   "outputs": [],
   "source": [
    "data.MasVnrType = data.MasVnrType.replace(np.nan, 'None')"
   ]
  },
  {
   "cell_type": "code",
   "execution_count": 7,
   "metadata": {},
   "outputs": [],
   "source": [
    "# convert to categorical\n",
    "data[data.select_dtypes(include=['object']).columns] = \\\n",
    "data.select_dtypes(include=['object']).apply(pd.Series.astype, dtype='category')"
   ]
  },
  {
   "cell_type": "code",
   "execution_count": 8,
   "metadata": {},
   "outputs": [],
   "source": [
    "# can drop the id column \n",
    "data = data.drop(columns=['Id'])"
   ]
  },
  {
   "cell_type": "markdown",
   "metadata": {},
   "source": [
    "Nan in continuous features will be replaced by zeros so that the decision tree can work with them, for the year of building the garage it is directly offered because not every house has a garage and 0 can represent that the garage does not. \n",
    "\n",
    "Another option for two remaining attributes to use for example knn, but it would be necessary first to process the dataset so that it can be used."
   ]
  },
  {
   "cell_type": "code",
   "execution_count": 9,
   "metadata": {},
   "outputs": [],
   "source": [
    "# Fill all NaN with 0\n",
    "data.loc[:,data.select_dtypes(include=['float64']).columns] = \\\n",
    "data.loc[:,data.select_dtypes(include=['float64']).columns].fillna(0)"
   ]
  },
  {
   "cell_type": "markdown",
   "metadata": {},
   "source": [
    "### Convert ordinal/categorical attributes\n",
    "I try the dummy coding and the code of categorical variables."
   ]
  },
  {
   "cell_type": "code",
   "execution_count": 10,
   "metadata": {},
   "outputs": [],
   "source": [
    "data_cat_code = data.copy(deep=True)\n",
    "data_cat_dummy = data.copy(deep=True)"
   ]
  },
  {
   "cell_type": "code",
   "execution_count": 11,
   "metadata": {},
   "outputs": [
    {
     "name": "stdout",
     "output_type": "stream",
     "text": [
      "<class 'pandas.core.frame.DataFrame'>\n",
      "RangeIndex: 1460 entries, 0 to 1459\n",
      "Data columns (total 80 columns):\n",
      "MSSubClass       1460 non-null int64\n",
      "MSZoning         1460 non-null int8\n",
      "LotFrontage      1460 non-null float64\n",
      "LotArea          1460 non-null int64\n",
      "Street           1460 non-null int8\n",
      "Alley            1460 non-null int8\n",
      "LotShape         1460 non-null int8\n",
      "LandContour      1460 non-null int8\n",
      "Utilities        1460 non-null int8\n",
      "LotConfig        1460 non-null int8\n",
      "LandSlope        1460 non-null int8\n",
      "Neighborhood     1460 non-null int8\n",
      "Condition1       1460 non-null int8\n",
      "Condition2       1460 non-null int8\n",
      "BldgType         1460 non-null int8\n",
      "HouseStyle       1460 non-null int8\n",
      "OverallQual      1460 non-null int64\n",
      "OverallCond      1460 non-null int64\n",
      "YearBuilt        1460 non-null int64\n",
      "YearRemodAdd     1460 non-null int64\n",
      "RoofStyle        1460 non-null int8\n",
      "RoofMatl         1460 non-null int8\n",
      "Exterior1st      1460 non-null int8\n",
      "Exterior2nd      1460 non-null int8\n",
      "MasVnrType       1460 non-null int8\n",
      "MasVnrArea       1460 non-null float64\n",
      "ExterQual        1460 non-null int8\n",
      "ExterCond        1460 non-null int8\n",
      "Foundation       1460 non-null int8\n",
      "BsmtQual         1460 non-null int8\n",
      "BsmtCond         1460 non-null int8\n",
      "BsmtExposure     1460 non-null int8\n",
      "BsmtFinType1     1460 non-null int8\n",
      "BsmtFinSF1       1460 non-null int64\n",
      "BsmtFinType2     1460 non-null int8\n",
      "BsmtFinSF2       1460 non-null int64\n",
      "BsmtUnfSF        1460 non-null int64\n",
      "TotalBsmtSF      1460 non-null int64\n",
      "Heating          1460 non-null int8\n",
      "HeatingQC        1460 non-null int8\n",
      "CentralAir       1460 non-null int8\n",
      "Electrical       1460 non-null int8\n",
      "1stFlrSF         1460 non-null int64\n",
      "2ndFlrSF         1460 non-null int64\n",
      "LowQualFinSF     1460 non-null int64\n",
      "GrLivArea        1460 non-null int64\n",
      "BsmtFullBath     1460 non-null int64\n",
      "BsmtHalfBath     1460 non-null int64\n",
      "FullBath         1460 non-null int64\n",
      "HalfBath         1460 non-null int64\n",
      "BedroomAbvGr     1460 non-null int64\n",
      "KitchenAbvGr     1460 non-null int64\n",
      "KitchenQual      1460 non-null int8\n",
      "TotRmsAbvGrd     1460 non-null int64\n",
      "Functional       1460 non-null int8\n",
      "Fireplaces       1460 non-null int64\n",
      "FireplaceQu      1460 non-null int8\n",
      "GarageType       1460 non-null int8\n",
      "GarageYrBlt      1460 non-null float64\n",
      "GarageFinish     1460 non-null int8\n",
      "GarageCars       1460 non-null int64\n",
      "GarageArea       1460 non-null int64\n",
      "GarageQual       1460 non-null int8\n",
      "GarageCond       1460 non-null int8\n",
      "PavedDrive       1460 non-null int8\n",
      "WoodDeckSF       1460 non-null int64\n",
      "OpenPorchSF      1460 non-null int64\n",
      "EnclosedPorch    1460 non-null int64\n",
      "3SsnPorch        1460 non-null int64\n",
      "ScreenPorch      1460 non-null int64\n",
      "PoolArea         1460 non-null int64\n",
      "PoolQC           1460 non-null int8\n",
      "Fence            1460 non-null int8\n",
      "MiscFeature      1460 non-null int8\n",
      "MiscVal          1460 non-null int64\n",
      "MoSold           1460 non-null int64\n",
      "YrSold           1460 non-null int64\n",
      "SaleType         1460 non-null int8\n",
      "SaleCondition    1460 non-null int8\n",
      "SalePrice        1460 non-null float64\n",
      "dtypes: float64(4), int64(33), int8(43)\n",
      "memory usage: 483.4 KB\n"
     ]
    }
   ],
   "source": [
    "# convert to code (it use -1 for nan values)\n",
    "str_cols = data_cat_code.select_dtypes('category').columns\n",
    "for col in str_cols:\n",
    "    data_cat_code[col] = data_cat_code[col].cat.codes\n",
    "data_cat_code.info()"
   ]
  },
  {
   "cell_type": "code",
   "execution_count": 12,
   "metadata": {},
   "outputs": [
    {
     "name": "stdout",
     "output_type": "stream",
     "text": [
      "<class 'pandas.core.frame.DataFrame'>\n",
      "RangeIndex: 1460 entries, 0 to 1459\n",
      "Columns: 289 entries, MSSubClass to SaleCondition_Partial\n",
      "dtypes: float64(4), int64(33), uint8(252)\n",
      "memory usage: 781.4 KB\n"
     ]
    }
   ],
   "source": [
    "# Convert categorical variables to indicators and create new data \n",
    "# This generates a lot of attributes because there is a big amount of categorical attributes.\n",
    "data_cat_dummy = pd.get_dummies(data_cat_dummy)\n",
    "data_cat_dummy.info()"
   ]
  },
  {
   "cell_type": "markdown",
   "metadata": {},
   "source": [
    "### Replace continuous features with some discrete ones"
   ]
  },
  {
   "cell_type": "code",
   "execution_count": 13,
   "metadata": {},
   "outputs": [],
   "source": [
    "continous_cols = ['MSSubClass', 'LotFrontage', 'LotArea', 'OverallQual', 'OverallCond',\n",
    "       'YearBuilt', 'YearRemodAdd', 'MasVnrArea', 'BsmtFinSF1', 'BsmtFinSF2',\n",
    "       'BsmtUnfSF', 'TotalBsmtSF', '1stFlrSF', '2ndFlrSF', 'LowQualFinSF',\n",
    "       'GrLivArea', 'BsmtFullBath', 'BsmtHalfBath', 'FullBath', 'HalfBath',\n",
    "       'BedroomAbvGr', 'KitchenAbvGr', 'TotRmsAbvGrd', 'Fireplaces',\n",
    "       'GarageYrBlt', 'GarageCars', 'GarageArea', 'WoodDeckSF', 'OpenPorchSF',\n",
    "       'EnclosedPorch', '3SsnPorch', 'ScreenPorch', 'PoolArea', 'MiscVal',\n",
    "       'MoSold', 'YrSold']\n",
    "\n",
    "def bin_it(bins, data, cols, res = None):\n",
    "    est = KBinsDiscretizer(n_bins=bins, encode='ordinal', strategy='uniform')\n",
    "    for i in cols:\n",
    "        est.fit(data[[str(i)]])\n",
    "        data[str(i)] = est.transform(data[[str(i)]])\n",
    "        if res == 'dummy':\n",
    "            data[str(i)] = data[str(i)].astype('category')\n",
    "    if res == 'dummy':\n",
    "        data = pd.get_dummies(data)\n",
    "    return data"
   ]
  },
  {
   "cell_type": "code",
   "execution_count": 14,
   "metadata": {},
   "outputs": [],
   "source": [
    "# number of bins for variable\n",
    "n_bins = 5\n",
    "\n",
    "# categorical variables in code and continuous in dummy coding using discretization\n",
    "data_cc_dummy = bin_it(5, data_cat_code.copy(deep=True), continous_cols, 'dummy')\n",
    "# categorical variables in code and continuous in code of bins\n",
    "data_cc_code = bin_it(10, data_cat_code.copy(deep=True), continous_cols)\n",
    "\n",
    "# categorical variables in dummy coding and continuous in dummy coding using discretization\n",
    "data_cd_dummy = bin_it(5, data_cat_dummy.copy(deep=True), continous_cols, 'dummy')\n",
    "\n",
    "# categorical variables in dummy coding and continuous in code of bins\n",
    "data_cd_code = bin_it(10, data_cat_dummy.copy(deep=True), continous_cols)\n",
    "\n",
    "# Use dummy codding on categorical variables and unprocessed continuously attributes (prepare data)\n",
    "# data_cat_code\n",
    "\n",
    "# Use code for categorical variables and unprocessed continuously attributes (prepare data)\n",
    "# data_cat_dummy"
   ]
  },
  {
   "cell_type": "markdown",
   "metadata": {},
   "source": [
    "The bins have their numerical designations, which can be used for the representation for decision trees because they are represented by the number. \n",
    "\n",
    "To keep the bin, I will continue to write it as a code and to process this code into 1 of N as a Dummy code.\n",
    "\n",
    "When testing a different number of bins per partition, I noticed that for the dummy coding method, there are about 5 bins optimum and about 9-10 bins for the code, where they have the best results in these numbers in different methods.\n",
    "\n",
    "As will be seen below, with binaries, the methods are not as accurate as leaving a continuous attribute, but I expected that. However, sometimes discretization is necessary because the algorithm might not be able to work with continuous values."
   ]
  },
  {
   "cell_type": "markdown",
   "metadata": {},
   "source": [
    "## Evaluating on differently prepared datasets using multiple models (decision tree, random forests, etc...)."
   ]
  },
  {
   "cell_type": "code",
   "execution_count": 15,
   "metadata": {},
   "outputs": [],
   "source": [
    "# number of cores use to evaluate cross-validation\n",
    "n_jobs = -1\n",
    "# numbe of fold in cross-validation\n",
    "cv = 10\n",
    "# scorer for crossvalidation -> minimalization RMSLE (log() was applied on the begin)\n",
    "root_mean_squared_error_scorer = make_scorer(mean_squared_error, greater_is_better=True)"
   ]
  },
  {
   "cell_type": "code",
   "execution_count": 16,
   "metadata": {},
   "outputs": [],
   "source": [
    "def drange(start, stop, step):\n",
    "    r = start\n",
    "    while r < stop:\n",
    "        yield r\n",
    "        r += step"
   ]
  },
  {
   "cell_type": "code",
   "execution_count": 17,
   "metadata": {},
   "outputs": [],
   "source": [
    "# method for test model and iterate over one parameter, can be use only for evaluate one set of model.\n",
    "def test_model_and_meta_parameter(model, data, s_params, test_param, min_value_p = 1, max_value_p = 20, step_p = 1):\n",
    "    RMSLE_train = []\n",
    "    RMSLE_test = []\n",
    "    param_val = []\n",
    "    for i in drange(min_value_p, max_value_p, step_p):\n",
    "        s_params[test_param] = i\n",
    "        mod = model(**s_params)\n",
    "        scores = cross_validate(mod, data.drop(columns=['SalePrice']), data.SalePrice, \n",
    "                            scoring=root_mean_squared_error_scorer, cv=cv, n_jobs=n_jobs, return_train_score=True)\n",
    "        param_val.append(i)\n",
    "        RMSLE_test.append(np.sqrt(scores['test_score']).mean())\n",
    "        RMSLE_train.append(np.sqrt(scores['train_score']).mean())\n",
    "    return param_val, RMSLE_train, RMSLE_test"
   ]
  },
  {
   "cell_type": "markdown",
   "metadata": {},
   "source": [
    "#### Test model on default parameters of methods (Decision tree, random forest, boosted tree, XGBoost) with continuous variables and dummy code of categorical attributes"
   ]
  },
  {
   "cell_type": "code",
   "execution_count": 18,
   "metadata": {},
   "outputs": [
    {
     "name": "stdout",
     "output_type": "stream",
     "text": [
      "Decision tree: train error - 2.4405433909236118e-05, test error - 0.19842212380819843\n",
      "Random forest: train error - 0.06473618869344447, test error - 0.1492925217624662\n",
      "Gradient boosting tree: train error - 0.07988090764216542, test error - 0.12699471805466941\n",
      "XGBoost: train error - 0.0857013415832413, test error - 0.12900066326215928\n"
     ]
    }
   ],
   "source": [
    "train, test = test_model_and_meta_parameter(DecisionTreeRegressor, data_cat_dummy, {}, 'random_state', 1, 2, 1)[1:]\n",
    "print('Decision tree: train error - ', train[0], ', test error - ', test[0], sep='')\n",
    "train, test = test_model_and_meta_parameter(RandomForestRegressor, data_cat_dummy, {}, 'random_state', 1, 2, 1)[1:]\n",
    "print('Random forest: train error - ', train[0], ', test error - ', test[0], sep='')\n",
    "train, test = test_model_and_meta_parameter(GradientBoostingRegressor, data_cat_dummy, {}, 'random_state', 1, 2, 1)[1:]\n",
    "print('Gradient boosting tree: train error - ', train[0], ', test error - ', test[0], sep='')\n",
    "train, test = test_model_and_meta_parameter(xgboost.XGBRegressor, data_cat_dummy, {}, 'random_state', 1, 2, 1)[1:]\n",
    "print('XGBoost: train error - ', train[0], ', test error - ', test[0], sep='')"
   ]
  },
  {
   "cell_type": "markdown",
   "metadata": {},
   "source": [
    "#### Test model on default parameters of methods (Decision tree, random forest, boosted tree, XGBoost) with continuous variables and code for categorical attributes"
   ]
  },
  {
   "cell_type": "code",
   "execution_count": 19,
   "metadata": {},
   "outputs": [
    {
     "name": "stdout",
     "output_type": "stream",
     "text": [
      "Decision tree: train error - 2.836677465267254e-05, test error - 0.19048474149625616\n",
      "Random forest: train error - 0.06512957791325254, test error - 0.1493318514499022\n",
      "Gradient boosting tree: train error - 0.08097129957164763, test error - 0.12806845668989625\n",
      "XGBoost: train error - 0.08682928734291508, test error - 0.1306802543831242\n"
     ]
    }
   ],
   "source": [
    "train, test = test_model_and_meta_parameter(DecisionTreeRegressor, data_cat_code, {}, 'random_state', 1, 2, 1)[1:]\n",
    "print('Decision tree: train error - ', train[0], ', test error - ', test[0], sep='')\n",
    "train, test = test_model_and_meta_parameter(RandomForestRegressor, data_cat_code, {}, 'random_state', 1, 2, 1)[1:]\n",
    "print('Random forest: train error - ', train[0], ', test error - ', test[0], sep='')\n",
    "train, test = test_model_and_meta_parameter(GradientBoostingRegressor, data_cat_code, {}, 'random_state', 1, 2, 1)[1:]\n",
    "print('Gradient boosting tree: train error - ', train[0], ', test error - ', test[0], sep='')\n",
    "train, test = test_model_and_meta_parameter(xgboost.XGBRegressor, data_cat_code, {}, 'random_state', 1, 2, 1)[1:]\n",
    "print('XGBoost: train error - ', train[0], ', test error - ', test[0], sep='')"
   ]
  },
  {
   "cell_type": "markdown",
   "metadata": {},
   "source": [
    "#### Test model on default parameters of methods (Decision tree, random forest, boosted tree, XGBoost) with continuous variables code in dummy and code for categorical attributes"
   ]
  },
  {
   "cell_type": "code",
   "execution_count": 20,
   "metadata": {},
   "outputs": [
    {
     "name": "stdout",
     "output_type": "stream",
     "text": [
      "Decision tree: train error - 0.0008802525936586498, test error - 0.21473172732131257\n",
      "Random forest: train error - 0.07054524070211882, test error - 0.16221735569685347\n",
      "Gradient boosting tree: train error - 0.10106541815728212, test error - 0.14103006160144832\n",
      "XGBoost: train error - 0.10780850855887465, test error - 0.14114268742286826\n"
     ]
    }
   ],
   "source": [
    "train, test = test_model_and_meta_parameter(DecisionTreeRegressor, data_cc_dummy, {}, 'random_state', 1, 2, 1)[1:]\n",
    "print('Decision tree: train error - ', train[0], ', test error - ', test[0], sep='')\n",
    "train, test = test_model_and_meta_parameter(RandomForestRegressor, data_cc_dummy, {}, 'random_state', 1, 2, 1)[1:]\n",
    "print('Random forest: train error - ', train[0], ', test error - ', test[0], sep='')\n",
    "train, test = test_model_and_meta_parameter(GradientBoostingRegressor, data_cc_dummy, {}, 'random_state', 1, 2, 1)[1:]\n",
    "print('Gradient boosting tree: train error - ', train[0], ', test error - ', test[0], sep='')\n",
    "train, test = test_model_and_meta_parameter(xgboost.XGBRegressor, data_cc_dummy, {}, 'random_state', 1, 2, 1)[1:]\n",
    "print('XGBoost: train error - ', train[0], ', test error - ', test[0], sep='')"
   ]
  },
  {
   "cell_type": "markdown",
   "metadata": {},
   "source": [
    "#### Test model on default parameters of methods (Decision tree, random forest, boosted tree, XGBoost) with continuous variables code integer code and code for categorical attributes"
   ]
  },
  {
   "cell_type": "code",
   "execution_count": 21,
   "metadata": {},
   "outputs": [
    {
     "name": "stdout",
     "output_type": "stream",
     "text": [
      "Decision tree: train error - 2.3977193507404993e-05, test error - 0.21778785290966454\n",
      "Random forest: train error - 0.06721706366185004, test error - 0.1535065031996195\n",
      "Gradient boosting tree: train error - 0.09060255600289664, test error - 0.1304929368450611\n",
      "XGBoost: train error - 0.09587270613987596, test error - 0.12998119487228021\n"
     ]
    }
   ],
   "source": [
    "train, test = test_model_and_meta_parameter(DecisionTreeRegressor, data_cc_code, {}, 'random_state', 1, 2, 1)[1:]\n",
    "print('Decision tree: train error - ', train[0], ', test error - ', test[0], sep='')\n",
    "train, test = test_model_and_meta_parameter(RandomForestRegressor, data_cc_code, {}, 'random_state', 1, 2, 1)[1:]\n",
    "print('Random forest: train error - ', train[0], ', test error - ', test[0], sep='')\n",
    "train, test = test_model_and_meta_parameter(GradientBoostingRegressor, data_cc_code, {}, 'random_state', 1, 2, 1)[1:]\n",
    "print('Gradient boosting tree: train error - ', train[0], ', test error - ', test[0], sep='')\n",
    "train, test = test_model_and_meta_parameter(xgboost.XGBRegressor, data_cc_code, {}, 'random_state', 1, 2, 1)[1:]\n",
    "print('XGBoost: train error - ', train[0], ', test error - ', test[0], sep='')"
   ]
  },
  {
   "cell_type": "markdown",
   "metadata": {},
   "source": [
    "#### Test model on default parameters of methods (Decision tree, random forest, boosted tree, XGBoost) with continuous variables code in dummy and dummy coded categorical attributes"
   ]
  },
  {
   "cell_type": "code",
   "execution_count": 22,
   "metadata": {},
   "outputs": [
    {
     "name": "stdout",
     "output_type": "stream",
     "text": [
      "Decision tree: train error - 0.0008805623617713472, test error - 0.21854463769433616\n",
      "Random forest: train error - 0.07064443931408367, test error - 0.1628024176620366\n",
      "Gradient boosting tree: train error - 0.10012085279340402, test error - 0.1409341118831921\n",
      "XGBoost: train error - 0.10777927524936144, test error - 0.1415107633670019\n"
     ]
    }
   ],
   "source": [
    "train, test = test_model_and_meta_parameter(DecisionTreeRegressor, data_cd_dummy, {}, 'random_state', 1, 2, 1)[1:]\n",
    "print('Decision tree: train error - ', train[0], ', test error - ', test[0], sep='')\n",
    "train, test = test_model_and_meta_parameter(RandomForestRegressor, data_cd_dummy, {}, 'random_state', 1, 2, 1)[1:]\n",
    "print('Random forest: train error - ', train[0], ', test error - ', test[0], sep='')\n",
    "train, test = test_model_and_meta_parameter(GradientBoostingRegressor, data_cd_dummy, {}, 'random_state', 1, 2, 1)[1:]\n",
    "print('Gradient boosting tree: train error - ', train[0], ', test error - ', test[0], sep='')\n",
    "train, test = test_model_and_meta_parameter(xgboost.XGBRegressor, data_cd_dummy, {}, 'random_state', 1, 2, 1)[1:]\n",
    "print('XGBoost: train error - ', train[0], ', test error - ', test[0], sep='')"
   ]
  },
  {
   "cell_type": "markdown",
   "metadata": {},
   "source": [
    "#### Test model on default parameters of methods (Decision tree, random forest, boosted tree, XGBoost) with continuous variables code integer code and dummy coded categorical attributes"
   ]
  },
  {
   "cell_type": "code",
   "execution_count": 23,
   "metadata": {},
   "outputs": [
    {
     "name": "stdout",
     "output_type": "stream",
     "text": [
      "Decision tree: train error - 2.3598280569181105e-05, test error - 0.21100925697096962\n",
      "Random forest: train error - 0.06752927378103725, test error - 0.15269604843933304\n",
      "Gradient boosting tree: train error - 0.0903676314776091, test error - 0.12963431421366503\n",
      "XGBoost: train error - 0.09480186824483995, test error - 0.1304964353792063\n"
     ]
    }
   ],
   "source": [
    "train, test = test_model_and_meta_parameter(DecisionTreeRegressor, data_cd_code, {}, 'random_state', 1, 2, 1)[1:]\n",
    "print('Decision tree: train error - ', train[0], ', test error - ', test[0], sep='')\n",
    "train, test = test_model_and_meta_parameter(RandomForestRegressor, data_cd_code, {}, 'random_state', 1, 2, 1)[1:]\n",
    "print('Random forest: train error - ', train[0], ', test error - ', test[0], sep='')\n",
    "train, test = test_model_and_meta_parameter(GradientBoostingRegressor, data_cd_code, {}, 'random_state', 1, 2, 1)[1:]\n",
    "print('Gradient boosting tree: train error - ', train[0], ', test error - ', test[0], sep='')\n",
    "train, test = test_model_and_meta_parameter(xgboost.XGBRegressor, data_cd_code, {}, 'random_state', 1, 2, 1)[1:]\n",
    "print('XGBoost: train error - ', train[0], ', test error - ', test[0], sep='')"
   ]
  },
  {
   "cell_type": "markdown",
   "metadata": {},
   "source": [
    "It can be seen that the decision tree without the depth limitation certainly suffers to over-learning and it is certainly necessary to limit the depth. This will be the first model and parameter I will try to improve.\n",
    " \n",
    "Other models certainly have the same problem, but not so much, and the more advanced the model, the lesser the learning curve. XGBoost can already be pretty well set up so that it only suffered minimally.\n",
    "\n",
    "With the basic parameters Gradient boosting achieved the best score. \n",
    "\n",
    "In the next step, I will try to debug single hyperparameters of the models and improve the results.\n",
    "For each model, I will try to achieve the best score within the prepared datasets.\n",
    " \n",
    "Especially in the XGBoost model, there are many parameters that can be tuned in the model."
   ]
  },
  {
   "cell_type": "markdown",
   "metadata": {},
   "source": [
    "### Tune the hyper parameters of the models"
   ]
  },
  {
   "cell_type": "code",
   "execution_count": 24,
   "metadata": {},
   "outputs": [],
   "source": [
    "# Function help to plot it\n",
    "def plot_it(param_val, RMSLE_train, RMSLE_test, test_param):\n",
    "    fig, ax = plt.subplots()\n",
    "    fig.set_size_inches(4.5, 2.5)\n",
    "    ax.plot(param_val, RMSLE_train, 'rs', param_val, RMSLE_test, 'bs')\n",
    "    ax.legend(['Train', 'Test'])\n",
    "    ax.yaxis.set_major_formatter(FormatStrFormatter('%.4f'))\n",
    "    plt.xlabel(test_param)\n",
    "    plt.ylabel('RMSLE')\n",
    "    plt.show()"
   ]
  },
  {
   "cell_type": "markdown",
   "metadata": {},
   "source": [
    "#### Decision tree"
   ]
  },
  {
   "cell_type": "code",
   "execution_count": 25,
   "metadata": {
    "scrolled": true
   },
   "outputs": [
    {
     "data": {
      "image/png": "[encoded data removed]",
      "text/plain": [
       "<Figure size 324x180 with 1 Axes>"
      ]
     },
     "metadata": {
      "needs_background": "light"
     },
     "output_type": "display_data"
    }
   ],
   "source": [
    "plot_it(*test_model_and_meta_parameter(DecisionTreeRegressor, data_cat_code, \n",
    "                                       {'max_depth': 6, 'random_state':1, \n",
    "                                        'min_samples_split':2, 'min_samples_leaf':1}, \n",
    "                                        'max_depth', 1, 25, 1), 'max_depth')"
   ]
  },
  {
   "cell_type": "code",
   "execution_count": 26,
   "metadata": {
    "scrolled": false
   },
   "outputs": [
    {
     "name": "stdout",
     "output_type": "stream",
     "text": [
      "Decision tree: code for categorical and no for continuous. \n",
      "               train error - 0.1334527368671097,       test error - 0.1818178334158593\n",
      "Decision tree: categorical in dummy and no for continuous. \n",
      "               train error - 0.13362755561229717,      test error - 0.18054719995189417\n",
      "Decision tree: code for categorical and continuous in dummy code. \n",
      "               train error - 0.1565533336335046,      test error - 0.19781270039228918\n",
      "Decision tree: code for categorical and code for continuous. \n",
      "               train error - 0.14354979928768064,      test error - 0.19478783656162105\n",
      "Decision tree: categorical in dummy and continuous in dummy code. \n",
      "               train error - 0.15566210989421078,      test error - 0.20376837134233644\n",
      "Decision tree: categorical in dummy and code for continuous. \n",
      "               train error - 0.14462254231510213,      test error - 0.19326850488067795\n"
     ]
    }
   ],
   "source": [
    "train, test = test_model_and_meta_parameter(DecisionTreeRegressor, data_cat_code, {'max_depth': 6, 'random_state':1, \n",
    "                                        'min_samples_split':2, 'min_samples_leaf':1}, 'random_state', 1, 2, 1)[1:]\n",
    "print('Decision tree: code for categorical and no for continuous. \\n \\\n",
    "              train error - ', train[0], ',       test error - ', test[0], sep='')\n",
    "train, test = test_model_and_meta_parameter(DecisionTreeRegressor, data_cat_dummy, {'max_depth': 6, 'random_state':1, \n",
    "                                        'min_samples_split':2, 'min_samples_leaf':1}, 'random_state', 1, 2, 1)[1:]\n",
    "print('Decision tree: categorical in dummy and no for continuous. \\n \\\n",
    "              train error - ', train[0], ',      test error - ', test[0], sep='')\n",
    "train, test = test_model_and_meta_parameter(DecisionTreeRegressor, data_cc_dummy, {'max_depth': 6, 'random_state':1, \n",
    "                                        'min_samples_split':2, 'min_samples_leaf':3}, 'random_state', 1, 2, 1)[1:]\n",
    "print('Decision tree: code for categorical and continuous in dummy code. \\n \\\n",
    "              train error - ', train[0], ',      test error - ', test[0], sep='')\n",
    "train, test = test_model_and_meta_parameter(DecisionTreeRegressor, data_cc_code, {'max_depth': 6, 'random_state':1, \n",
    "                                        'min_samples_split':2, 'min_samples_leaf':1}, 'random_state', 1, 2, 1)[1:]\n",
    "print('Decision tree: code for categorical and code for continuous. \\n \\\n",
    "              train error - ', train[0], ',      test error - ', test[0], sep='')\n",
    "train, test = test_model_and_meta_parameter(DecisionTreeRegressor, data_cd_dummy, {'max_depth': 6, 'random_state':1, \n",
    "                                        'min_samples_split':2, 'min_samples_leaf':3}, 'random_state', 1, 2, 1)[1:]\n",
    "print('Decision tree: categorical in dummy and continuous in dummy code. \\n \\\n",
    "              train error - ', train[0], ',      test error - ', test[0], sep='')\n",
    "train, test = test_model_and_meta_parameter(DecisionTreeRegressor, data_cd_code, {'max_depth': 6, 'random_state':1, \n",
    "                                        'min_samples_split':2, 'min_samples_leaf':2}, 'random_state', 1, 2, 1)[1:]\n",
    "print('Decision tree: categorical in dummy and code for continuous. \\n \\\n",
    "              train error - ', train[0], ',      test error - ', test[0], sep='') "
   ]
  },
  {
   "cell_type": "markdown",
   "metadata": {},
   "source": [
    "On the graph, the success of the decision tree depends on the depth of the decision tree.\n",
    "I finally chose the depth 6 according to the cross.\n",
    "I measured the model on all datasets.\n",
    "\n",
    "The best results are if I kept the continuous attributes normal and did not combine them.\n",
    "\n",
    "The depth was finally the main parameter, the other parameters were ideal to leave in the original settings."
   ]
  },
  {
   "cell_type": "markdown",
   "metadata": {},
   "source": [
    "#### Random forrests"
   ]
  },
  {
   "cell_type": "code",
   "execution_count": 27,
   "metadata": {},
   "outputs": [
    {
     "data": {
      "image/png": "[encoded data removed]",
      "text/plain": [
       "<Figure size 324x180 with 1 Axes>"
      ]
     },
     "metadata": {
      "needs_background": "light"
     },
     "output_type": "display_data"
    },
    {
     "data": {
      "image/png": "[encoded data removed]",
      "text/plain": [
       "<Figure size 324x180 with 1 Axes>"
      ]
     },
     "metadata": {
      "needs_background": "light"
     },
     "output_type": "display_data"
    }
   ],
   "source": [
    "plot_it(*test_model_and_meta_parameter(RandomForestRegressor, data_cat_code, \n",
    "                              {'max_depth': 6, 'random_state':0, \n",
    "                                        'min_samples_split':2, 'min_samples_leaf':1, 'n_estimators':100}, \n",
    "                                        'max_depth', 1, 12, 1), 'max_depth')\n",
    "plot_it(*test_model_and_meta_parameter(RandomForestRegressor, data_cc_dummy, \n",
    "                                       {'max_depth': 6, 'random_state':0, \n",
    "                                        'min_samples_split':2, 'min_samples_leaf':1, 'n_estimators':100}, \n",
    "                                        'max_depth', 1, 12, 1), 'max_depth')"
   ]
  },
  {
   "cell_type": "code",
   "execution_count": 28,
   "metadata": {},
   "outputs": [
    {
     "data": {
      "image/png": "[encoded data removed]",
      "text/plain": [
       "<Figure size 324x180 with 1 Axes>"
      ]
     },
     "metadata": {
      "needs_background": "light"
     },
     "output_type": "display_data"
    }
   ],
   "source": [
    "plot_it(*test_model_and_meta_parameter(RandomForestRegressor, data_cat_code, \n",
    "                                       {'max_depth': 7, 'random_state':0, \n",
    "                                        'min_samples_split':2, 'min_samples_leaf':1, 'n_estimators':100}, \n",
    "                                        'n_estimators', 1, 150, 1), 'n_estimators')"
   ]
  },
  {
   "cell_type": "code",
   "execution_count": 29,
   "metadata": {},
   "outputs": [
    {
     "name": "stdout",
     "output_type": "stream",
     "text": [
      "Random forest: code for categorical and no for continuous. \n",
      "               train error - 0.10614124166271555,       test error - 0.15130229911145818\n",
      "Random forest: categorical in dummy and no for continuous. \n",
      "               train error - 0.1066302260090732,      test error - 0.15220958853809408\n",
      "Random forest: code for categorical and continuous in dummy code. \n",
      "               train error - 0.12815598381496338,      test error - 0.16554671430277942\n",
      "Random forest: code for categorical and code for continuous. \n",
      "               train error - 0.11837621747927507,      test error - 0.15767939417297042\n",
      "Random forest: categorical in dummy and continuous in dummy code. \n",
      "               train error - 0.1277268953556578,      test error - 0.16536453915027854\n",
      "Random forest: categorical in dummy and code for continuous. \n",
      "               train error - 0.11867407669217933,      test error - 0.1579760537685988\n"
     ]
    }
   ],
   "source": [
    "train, test = test_model_and_meta_parameter(RandomForestRegressor, data_cat_code,  {'max_depth': 6, 'random_state':1, \n",
    "                                        'min_samples_split':2, 'min_samples_leaf':1, 'n_estimators':180}, 'random_state', 1, 2, 1)[1:]\n",
    "print('Random forest: code for categorical and no for continuous. \\n \\\n",
    "              train error - ', train[0], ',       test error - ', test[0], sep='')\n",
    "train, test = test_model_and_meta_parameter(RandomForestRegressor, data_cat_dummy,  {'max_depth': 6, 'random_state':1, \n",
    "                                        'min_samples_split':2, 'min_samples_leaf':1, 'n_estimators':180}, 'random_state', 1, 2, 1)[1:]\n",
    "print('Random forest: categorical in dummy and no for continuous. \\n \\\n",
    "              train error - ', train[0], ',      test error - ', test[0], sep='')\n",
    "train, test = test_model_and_meta_parameter(RandomForestRegressor, data_cc_dummy,  {'max_depth': 6, 'random_state':1, \n",
    "                                        'min_samples_split':2, 'min_samples_leaf':1, 'n_estimators':180}, 'random_state', 1, 2, 1)[1:]\n",
    "print('Random forest: code for categorical and continuous in dummy code. \\n \\\n",
    "              train error - ', train[0], ',      test error - ', test[0], sep='')\n",
    "train, test = test_model_and_meta_parameter(RandomForestRegressor, data_cc_code,  {'max_depth': 6, 'random_state':1, \n",
    "                                        'min_samples_split':2, 'min_samples_leaf':1, 'n_estimators':180}, 'random_state', 1, 2, 1)[1:]\n",
    "print('Random forest: code for categorical and code for continuous. \\n \\\n",
    "              train error - ', train[0], ',      test error - ', test[0], sep='')\n",
    "train, test = test_model_and_meta_parameter(RandomForestRegressor, data_cd_dummy,  {'max_depth': 6, 'random_state':1, \n",
    "                                        'min_samples_split':2, 'min_samples_leaf':1, 'n_estimators':180}, 'random_state', 1, 2, 1)[1:]\n",
    "print('Random forest: categorical in dummy and continuous in dummy code. \\n \\\n",
    "              train error - ', train[0], ',      test error - ', test[0], sep='')\n",
    "train, test = test_model_and_meta_parameter(RandomForestRegressor, data_cd_code,  {'max_depth': 6, 'random_state':1, \n",
    "                                        'min_samples_split':2, 'min_samples_leaf':1, 'n_estimators':180}, 'random_state', 1, 2, 1)[1:]\n",
    "print('Random forest: categorical in dummy and code for continuous. \\n \\\n",
    "              train error - ', train[0], ',      test error - ', test[0], sep='') "
   ]
  },
  {
   "cell_type": "markdown",
   "metadata": {},
   "source": [
    "The random forest parameters behaved as expected. I chose the depth again 6. This method has achieved significantly better results than the tree itself.\n",
    "\n",
    "Here, the datasets, where I left continuous attributes unbound, also came close to a dataset, where I used dummy coding for categorical attributes and continually binned into ten bins and used the generated representation for each bin."
   ]
  },
  {
   "cell_type": "markdown",
   "metadata": {},
   "source": [
    "#### Gradient boosting"
   ]
  },
  {
   "cell_type": "code",
   "execution_count": 30,
   "metadata": {},
   "outputs": [
    {
     "data": {
      "image/png": "[encoded data removed]",
      "text/plain": [
       "<Figure size 324x180 with 1 Axes>"
      ]
     },
     "metadata": {
      "needs_background": "light"
     },
     "output_type": "display_data"
    }
   ],
   "source": [
    "plot_it(*test_model_and_meta_parameter(GradientBoostingRegressor, data_cat_code, \n",
    "                                      {'max_depth': 4, 'random_state':0, 'learning_rate':0.1, \n",
    "                                        'min_samples_split':2, 'min_samples_leaf':1, 'n_estimators':100}, \n",
    "                                        'max_depth', 1, 17, 1), 'max_depth')"
   ]
  },
  {
   "cell_type": "code",
   "execution_count": 31,
   "metadata": {},
   "outputs": [
    {
     "data": {
      "image/png": "[encoded data removed]",
      "text/plain": [
       "<Figure size 324x180 with 1 Axes>"
      ]
     },
     "metadata": {
      "needs_background": "light"
     },
     "output_type": "display_data"
    }
   ],
   "source": [
    "plot_it(*test_model_and_meta_parameter(GradientBoostingRegressor, data_cat_code, \n",
    "                                       {'max_depth': 4, 'random_state':0, 'learning_rate':0.1, \n",
    "                                        'min_samples_split':2, 'min_samples_leaf':1, 'n_estimators':100}, \n",
    "                                        'learning_rate', 0.01, 0.2, 0.01), 'learning_rate')"
   ]
  },
  {
   "cell_type": "code",
   "execution_count": 32,
   "metadata": {},
   "outputs": [
    {
     "data": {
      "image/png": "[encoded data removed]",
      "text/plain": [
       "<Figure size 324x180 with 1 Axes>"
      ]
     },
     "metadata": {
      "needs_background": "light"
     },
     "output_type": "display_data"
    }
   ],
   "source": [
    "plot_it(*test_model_and_meta_parameter(GradientBoostingRegressor, data_cat_code, \n",
    "                                       {'max_depth': 4, 'random_state':0, 'learning_rate':0.1, \n",
    "                                        'min_samples_split':2, 'min_samples_leaf':1, 'n_estimators':100}, \n",
    "                                        'n_estimators', 1, 75, 1), 'n_estimators')"
   ]
  },
  {
   "cell_type": "code",
   "execution_count": 33,
   "metadata": {},
   "outputs": [
    {
     "name": "stdout",
     "output_type": "stream",
     "text": [
      "Gradient boosting: code for categorical and no for continuous. \n",
      "               train error - 0.06666079608909234,       test error - 0.12654736625315172\n",
      "Gradient boosting: categorical in dummy and no for continuous. \n",
      "               train error - 0.06632966509081449,      test error - 0.1266040425763933\n",
      "Gradient boosting: code for categorical and continuous in dummy code. \n",
      "               train error - 0.08571531469844,      test error - 0.13986662739376282\n",
      "Gradient boosting: code for categorical and code for continuous. \n",
      "               train error - 0.07774163226752738,      test error - 0.13183123782404613\n",
      "Gradient boosting: categorical in dummy and continuous in dummy code. \n",
      "               train error - 0.08623904116367734,      test error - 0.13840793631859688\n",
      "Gradient boosting: categorical in dummy and code for continuous. \n",
      "               train error - 0.07802866653586708,      test error - 0.13237564440982302\n"
     ]
    }
   ],
   "source": [
    "train, test = test_model_and_meta_parameter(GradientBoostingRegressor, data_cat_code, {'max_depth': 4, 'random_state':0, 'learning_rate':0.1,\n",
    "                                        'min_samples_split':2, 'min_samples_leaf':1, 'n_estimators':75}, \n",
    "                                        'random_state', 1, 2, 1)[1:]\n",
    "print('Gradient boosting: code for categorical and no for continuous. \\n \\\n",
    "              train error - ', train[0], ',       test error - ', test[0], sep='')\n",
    "train, test = test_model_and_meta_parameter(GradientBoostingRegressor, data_cat_dummy,  {'max_depth': 4, 'random_state':0, 'learning_rate':0.1, \n",
    "                                        'min_samples_split':2, 'min_samples_leaf':1, 'n_estimators':75}, \n",
    "                                        'random_state', 1, 2, 1)[1:]\n",
    "print('Gradient boosting: categorical in dummy and no for continuous. \\n \\\n",
    "              train error - ', train[0], ',      test error - ', test[0], sep='')\n",
    "train, test = test_model_and_meta_parameter(GradientBoostingRegressor, data_cc_dummy,  {'max_depth': 4, 'random_state':0, 'learning_rate':0.1, \n",
    "                                        'min_samples_split':2, 'min_samples_leaf':1, 'n_estimators':75}, \n",
    "                                        'random_state', 1, 2, 1)[1:]\n",
    "print('Gradient boosting: code for categorical and continuous in dummy code. \\n \\\n",
    "              train error - ', train[0], ',      test error - ', test[0], sep='')\n",
    "train, test = test_model_and_meta_parameter(GradientBoostingRegressor, data_cc_code,  {'max_depth': 4, 'random_state':0, 'learning_rate':0.1, \n",
    "                                        'min_samples_split':2, 'min_samples_leaf':1, 'n_estimators':75}, \n",
    "                                        'random_state', 1, 2, 1)[1:]\n",
    "print('Gradient boosting: code for categorical and code for continuous. \\n \\\n",
    "              train error - ', train[0], ',      test error - ', test[0], sep='')\n",
    "train, test = test_model_and_meta_parameter(GradientBoostingRegressor, data_cd_dummy,  {'max_depth': 4, 'random_state':0, 'learning_rate':0.1, \n",
    "                                        'min_samples_split':2, 'min_samples_leaf':1, 'n_estimators':75}, \n",
    "                                        'random_state', 1, 2, 1)[1:]\n",
    "print('Gradient boosting: categorical in dummy and continuous in dummy code. \\n \\\n",
    "              train error - ', train[0], ',      test error - ', test[0], sep='')\n",
    "train, test = test_model_and_meta_parameter(GradientBoostingRegressor, data_cd_code,  {'max_depth': 4, 'random_state':0, 'learning_rate':0.1, \n",
    "                                        'min_samples_split':2, 'min_samples_leaf':1, 'n_estimators':75}, \n",
    "                                        'random_state', 1, 2, 1)[1:]\n",
    "print('Gradient boosting: categorical in dummy and code for continuous. \\n \\\n",
    "              train error - ', train[0], ',      test error - ', test[0], sep='') "
   ]
  },
  {
   "cell_type": "markdown",
   "metadata": {},
   "source": [
    "The boosted tree also had the parameter learning rate. With this method, I chose a smaller depth of trees for over-fitting, which was evident in this method at great depth. Also, the learning rate remained lower to avoid such over-fitting.\n",
    "\n",
    "Again, this method achieved better results than the previous one, and it was best to leave continuous parameters untouched. The difference was even more pronounced than previous methods."
   ]
  },
  {
   "cell_type": "markdown",
   "metadata": {},
   "source": [
    "#### XGBoost"
   ]
  },
  {
   "cell_type": "code",
   "execution_count": 34,
   "metadata": {},
   "outputs": [
    {
     "data": {
      "image/png": "[encoded data removed]",
      "text/plain": [
       "<Figure size 324x180 with 1 Axes>"
      ]
     },
     "metadata": {
      "needs_background": "light"
     },
     "output_type": "display_data"
    }
   ],
   "source": [
    "plot_it(*test_model_and_meta_parameter(xgboost.XGBRegressor, data_cat_code, \n",
    "                                      {'colsample_bytree': 0.5, 'gamma':0, 'learning_rate':0.1, \n",
    "                                        'max_depth':3, 'min_child_weight':1.5, 'n_estimators':100,\n",
    "                                        'reg_alpha':0.5, 'reg_lambda':0.45, 'subsample':0.8, \n",
    "                                        'seed':42}, \n",
    "                                        'max_depth', 1, 20, 1), 'max_depth')"
   ]
  },
  {
   "cell_type": "code",
   "execution_count": 35,
   "metadata": {},
   "outputs": [
    {
     "data": {
      "image/png": "[encoded data removed]",
      "text/plain": [
       "<Figure size 324x180 with 1 Axes>"
      ]
     },
     "metadata": {
      "needs_background": "light"
     },
     "output_type": "display_data"
    }
   ],
   "source": [
    "plot_it(*test_model_and_meta_parameter(xgboost.XGBRegressor, data_cat_code, \n",
    "                                       {'colsample_bytree': 0.4, 'gamma':0, 'learning_rate':0.1, \n",
    "                                        'max_depth':4, 'min_child_weight':1.5, 'n_estimators':100,\n",
    "                                        'reg_alpha':0.5, 'reg_lambda':0.45, 'subsample':0.8, \n",
    "                                        'seed':42}, \n",
    "                                        'colsample_bytree', 0.1, 1, 0.1), 'colsample_bytree')"
   ]
  },
  {
   "cell_type": "code",
   "execution_count": 36,
   "metadata": {},
   "outputs": [
    {
     "data": {
      "image/png": "[encoded data removed]",
      "text/plain": [
       "<Figure size 324x180 with 1 Axes>"
      ]
     },
     "metadata": {
      "needs_background": "light"
     },
     "output_type": "display_data"
    }
   ],
   "source": [
    "plot_it(*test_model_and_meta_parameter(xgboost.XGBRegressor, data_cat_code, \n",
    "                                       {'colsample_bytree': 0.4, 'gamma':0, 'learning_rate':0.1, \n",
    "                                        'max_depth':4, 'min_child_weight':1.5, 'n_estimators':100,\n",
    "                                        'reg_alpha':0.5, 'reg_lambda':0.45, 'subsample':0.8, \n",
    "                                        'seed':42}, \n",
    "                                        'gamma', 0, 1, 0.1), 'gamma')"
   ]
  },
  {
   "cell_type": "code",
   "execution_count": 37,
   "metadata": {},
   "outputs": [
    {
     "data": {
      "image/png": "[encoded data removed]",
      "text/plain": [
       "<Figure size 324x180 with 1 Axes>"
      ]
     },
     "metadata": {
      "needs_background": "light"
     },
     "output_type": "display_data"
    }
   ],
   "source": [
    "plot_it(*test_model_and_meta_parameter(xgboost.XGBRegressor, data_cat_code, \n",
    "                                       {'colsample_bytree': 0.4, 'gamma':0, 'learning_rate':0.1, \n",
    "                                        'max_depth':4, 'min_child_weight':1.5, 'n_estimators':100,\n",
    "                                        'reg_alpha':0.5, 'reg_lambda':0.45, 'subsample':0.8, \n",
    "                                        'seed':42}, \n",
    "                                        'learning_rate', 0.1, 1, 0.1), 'learning_rate')"
   ]
  },
  {
   "cell_type": "code",
   "execution_count": 38,
   "metadata": {},
   "outputs": [
    {
     "data": {
      "image/png": "[encoded data removed]",
      "text/plain": [
       "<Figure size 324x180 with 1 Axes>"
      ]
     },
     "metadata": {
      "needs_background": "light"
     },
     "output_type": "display_data"
    }
   ],
   "source": [
    "plot_it(*test_model_and_meta_parameter(xgboost.XGBRegressor, data_cat_code, \n",
    "                                       {'colsample_bytree': 0.4, 'gamma':0, 'learning_rate':0.1, \n",
    "                                        'max_depth':4, 'min_child_weight':1.5, 'n_estimators':100,\n",
    "                                        'reg_alpha':0.5, 'reg_lambda':0.45, 'subsample':0.8, \n",
    "                                        'seed':42}, \n",
    "                                        'min_child_weight', 0.1, 5, 0.2), 'min_child_weight')"
   ]
  },
  {
   "cell_type": "code",
   "execution_count": 39,
   "metadata": {},
   "outputs": [
    {
     "data": {
      "image/png": "[encoded data removed]",
      "text/plain": [
       "<Figure size 324x180 with 1 Axes>"
      ]
     },
     "metadata": {
      "needs_background": "light"
     },
     "output_type": "display_data"
    }
   ],
   "source": [
    "plot_it(*test_model_and_meta_parameter(xgboost.XGBRegressor, data_cat_code, \n",
    "                                       {'colsample_bytree': 0.4, 'gamma':0, 'learning_rate':0.1, \n",
    "                                        'max_depth':4, 'min_child_weight':1.5, 'n_estimators':100,\n",
    "                                        'reg_alpha':0.5, 'reg_lambda':0.45, 'subsample':0.8, \n",
    "                                        'seed':42}, \n",
    "                                        'n_estimators', 50, 500, 5), 'n_estimators')"
   ]
  },
  {
   "cell_type": "code",
   "execution_count": 40,
   "metadata": {},
   "outputs": [
    {
     "data": {
      "image/png": "[encoded data removed]",
      "text/plain": [
       "<Figure size 324x180 with 1 Axes>"
      ]
     },
     "metadata": {
      "needs_background": "light"
     },
     "output_type": "display_data"
    }
   ],
   "source": [
    "plot_it(*test_model_and_meta_parameter(xgboost.XGBRegressor, data_cat_code, \n",
    "                                       {'colsample_bytree': 0.4, 'gamma':0, 'learning_rate':0.1, \n",
    "                                        'max_depth':4, 'min_child_weight':1.5, 'n_estimators':100,\n",
    "                                        'reg_alpha':0.5, 'reg_lambda':0.45, 'subsample':0.8, \n",
    "                                        'seed':42}, \n",
    "                                        'reg_alpha', 0, 5, 0.1), 'reg_alpha')"
   ]
  },
  {
   "cell_type": "code",
   "execution_count": 41,
   "metadata": {},
   "outputs": [
    {
     "data": {
      "image/png": "[encoded data removed]",
      "text/plain": [
       "<Figure size 324x180 with 1 Axes>"
      ]
     },
     "metadata": {
      "needs_background": "light"
     },
     "output_type": "display_data"
    }
   ],
   "source": [
    "plot_it(*test_model_and_meta_parameter(xgboost.XGBRegressor, data_cat_code, \n",
    "                                       {'colsample_bytree': 0.4, 'gamma':0, 'learning_rate':0.1, \n",
    "                                        'max_depth':4, 'min_child_weight':1.5, 'n_estimators':100,\n",
    "                                        'reg_alpha':0.5, 'reg_lambda':0.45, 'subsample':0.8, \n",
    "                                        'seed':42}, \n",
    "                                        'reg_lambda', 0, 5, 0.1), 'reg_lambda')"
   ]
  },
  {
   "cell_type": "code",
   "execution_count": 42,
   "metadata": {
    "scrolled": true
   },
   "outputs": [
    {
     "data": {
      "image/png": "[encoded data removed]",
      "text/plain": [
       "<Figure size 324x180 with 1 Axes>"
      ]
     },
     "metadata": {
      "needs_background": "light"
     },
     "output_type": "display_data"
    }
   ],
   "source": [
    "plot_it(*test_model_and_meta_parameter(xgboost.XGBRegressor, data_cat_code, \n",
    "                                       {'colsample_bytree': 0.4, 'gamma':0, 'learning_rate':0.1, \n",
    "                                        'max_depth':4, 'min_child_weight':1.5, 'n_estimators':100,\n",
    "                                        'reg_alpha':0.5, 'reg_lambda':0.45, 'subsample':0.8, \n",
    "                                        'seed':42}, \n",
    "                                        'subsample', 0.1, 1, 0.01), 'subsample')"
   ]
  },
  {
   "cell_type": "code",
   "execution_count": 43,
   "metadata": {
    "scrolled": true
   },
   "outputs": [
    {
     "name": "stdout",
     "output_type": "stream",
     "text": [
      "XGBoost: code for categorical and no for continuous. \n",
      "               train error - 0.017298075388074676,       test error - 0.12354150601561764\n",
      "XGBoost: categorical in dummy and no for continuous. \n",
      "               train error - 0.08608964233041166,      test error - 0.12557509768761527\n",
      "XGBoost: code for categorical and continuous in dummy code. \n",
      "               train error - 0.10456057348519136,      test error - 0.1381382386315992\n",
      "XGBoost: code for categorical and code for continuous. \n",
      "               train error - 0.09357458097851681,      test error - 0.12855730965738763\n",
      "XGBoost: categorical in dummy and continuous in dummy code. \n",
      "               train error - 0.10565172166973813,      test error - 0.13997466621358123\n",
      "XGBoost: categorical in dummy and code for continuous. \n",
      "               train error - 0.09469943341302785,      test error - 0.12687528975661094\n"
     ]
    }
   ],
   "source": [
    "train, test = test_model_and_meta_parameter(xgboost.XGBRegressor, data_cat_code, {'colsample_bytree': 0.4, 'gamma':0, 'learning_rate':0.1, \n",
    "                                        'max_depth':4, 'min_child_weight':1.5, 'n_estimators':10000,\n",
    "                                        'reg_alpha':0.5, 'reg_lambda':0.45, 'subsample':0.8, \n",
    "                                        'seed':42}, 'seed', 42, 43, 1)[1:]\n",
    "print('XGBoost: code for categorical and no for continuous. \\n \\\n",
    "              train error - ', train[0], ',       test error - ', test[0], sep='')\n",
    "train, test = test_model_and_meta_parameter(xgboost.XGBRegressor, data_cat_dummy, {'colsample_bytree': 0.4, 'gamma':0, 'learning_rate':0.1, \n",
    "                                        'max_depth':4, 'min_child_weight':1.5, 'n_estimators':100,\n",
    "                                        'reg_alpha':0.5, 'reg_lambda':0.45, 'subsample':0.8, \n",
    "                                        'seed':42}, 'seed', 42, 43, 1)[1:]\n",
    "print('XGBoost: categorical in dummy and no for continuous. \\n \\\n",
    "              train error - ', train[0], ',      test error - ', test[0], sep='')\n",
    "train, test = test_model_and_meta_parameter(xgboost.XGBRegressor, data_cc_dummy, {'colsample_bytree': 0.4, 'gamma':0, 'learning_rate':0.1, \n",
    "                                        'max_depth':4, 'min_child_weight':1.5, 'n_estimators':100,\n",
    "                                        'reg_alpha':0.5, 'reg_lambda':0.45, 'subsample':0.8, \n",
    "                                        'seed':42}, 'seed', 42, 43, 1)[1:]\n",
    "print('XGBoost: code for categorical and continuous in dummy code. \\n \\\n",
    "              train error - ', train[0], ',      test error - ', test[0], sep='')\n",
    "train, test = test_model_and_meta_parameter(xgboost.XGBRegressor, data_cc_code, {'colsample_bytree': 0.4, 'gamma':0, 'learning_rate':0.1, \n",
    "                                        'max_depth':4, 'min_child_weight':1.5, 'n_estimators':100,\n",
    "                                        'reg_alpha':0.5, 'reg_lambda':0.45, 'subsample':0.8, \n",
    "                                        'seed':42}, 'seed', 42, 43, 1)[1:]\n",
    "print('XGBoost: code for categorical and code for continuous. \\n \\\n",
    "              train error - ', train[0], ',      test error - ', test[0], sep='')\n",
    "train, test = test_model_and_meta_parameter(xgboost.XGBRegressor, data_cd_dummy, {'colsample_bytree': 0.4, 'gamma':0, 'learning_rate':0.1, \n",
    "                                        'max_depth':4, 'min_child_weight':1.5, 'n_estimators':100,\n",
    "                                        'reg_alpha':0.5, 'reg_lambda':0.45, 'subsample':0.8, \n",
    "                                        'seed':42}, 'seed', 42, 43, 1)[1:]\n",
    "print('XGBoost: categorical in dummy and continuous in dummy code. \\n \\\n",
    "              train error - ', train[0], ',      test error - ', test[0], sep='')\n",
    "train, test = test_model_and_meta_parameter(xgboost.XGBRegressor, data_cd_code, {'colsample_bytree': 0.4, 'gamma':0, 'learning_rate':0.1, \n",
    "                                        'max_depth':4, 'min_child_weight':1.5, 'n_estimators':100,\n",
    "                                        'reg_alpha':0.5, 'reg_lambda':0.45, 'subsample':0.8, \n",
    "                                        'seed':42}, 'seed', 42, 43, 1)[1:]\n",
    "print('XGBoost: categorical in dummy and code for continuous. \\n \\\n",
    "              train error - ', train[0], ',      test error - ', test[0], sep='') "
   ]
  },
  {
   "cell_type": "markdown",
   "metadata": {},
   "source": [
    "With XGBoost I managed to achieve the best results, this method had the slightest tendency to over-fitting and even with the wrongly selected parameters did not drop significantly test error.\n",
    "\n",
    "Also, the results did not improve so much against the basic parameters that are set. In this method, datasets without binaries again had the best result, but using the dummy code for categorical attributes and binning to 10 bins was quite successful. \n",
    "\n",
    "In the preprocessing of continuous attributes, in this test, the bins did not work in the dummy code, but it is better to leave them in numerical representation as they were divided. This division and the near bins as numbers seem to retain the information better.\n",
    "\n",
    "On the contrary, it is not very important for categorical ones, and it is better to use the dummy code."
   ]
  }
 ],
 "metadata": {
  "kernelspec": {
   "display_name": "Python 3",
   "language": "python",
   "name": "python3"
  },
  "language_info": {
   "codemirror_mode": {
    "name": "ipython",
    "version": 3
   },
   "file_extension": ".py",
   "mimetype": "text/x-python",
   "name": "python",
   "nbconvert_exporter": "python",
   "pygments_lexer": "ipython3",
   "version": "3.7.2"
  }
 },
 "nbformat": 4,
 "nbformat_minor": 2
}
