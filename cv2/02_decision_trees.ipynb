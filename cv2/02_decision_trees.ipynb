{
 "cells": [
  {
   "cell_type": "markdown",
   "metadata": {},
   "source": [
    "# Decision trees\n",
    "\n",
    "**Contents**\n",
    "\n",
    "  1. ID3 algorithm and demonstration of basic idea on simple dataset.\n",
    "  2. How to treat continous features, C4.5 algorithm.\n",
    "  3. Beware of overfitting: example data, tunning the tree depth.\n",
    "  4. Ensemble methods: bagging with random forests.\n",
    "  5. Ensemble methods: boosting with gradient boosted trees.\n",
    "\n",
    "[Here](http://scikit-learn.org/stable/modules/tree.html) is the `scikit-learn` manual on the `tree` package."
   ]
  },
  {
   "cell_type": "code",
   "execution_count": 3,
   "metadata": {},
   "outputs": [],
   "source": [
    "import math\n",
    "import pandas as pd\n",
    "import numpy as np\n",
    "from sklearn import tree\n",
    "from sklearn.tree import DecisionTreeClassifier "
   ]
  },
  {
   "cell_type": "markdown",
   "metadata": {},
   "source": [
    "## ID3 algorithm: basic idea of how the decision trees are constructed\n",
    "\n",
    "  * Try to construct a decision tree for the simple_data.csv dataset.\n",
    "  * Use greedy algorithm to minimize **information gain**, a measure based on **entropy**.\n",
    "\n",
    "**Entropy**:\n",
    "\n",
    "Let $S$ be a set of $N$ data points with discrete target variable with possible values $s_1, s_2, \\ldots, s_k$ and let $p_i$ be a frequency of $s_i$ in $S$, i.e.,\n",
    "$$\n",
    "    p_i = \\frac{\\#\\{ d = s_i \\mid d \\in S\\}}{N}.\n",
    "$$\n",
    "Then the entropy of $S$ is the number\n",
    "$$\n",
    "    H(S) = - \\sum_{i = 1}^k p_i \\log_2 p_i.\n",
    "$$\n",
    "The units of entropy are called **bits**, the entropy is always a number between $0$ an $\\log_2(k)$: $0$ corresponds to datasets that are not random at all, i.e., $p_i = 1$ for some $i$, $\\log_2(k)$ corresponds to totally random datasets, i.e., $p_1 = p_2 = \\cdots = p_k$.\n",
    "\n",
    "Example, let $S$ be a dataset with a target variable with values $(0,0,1,0,2,0,1,0)$, this means that $N = 8$, $k = 3$, $s_1 = 0, s_2 = 1, s_3 = 2$ and  $p_1 = 5/8, p_2 = 2/8$ and $p_3 = 1/8$. The entropy is then\n",
    "$$\n",
    "    H(S) = -5/8 \\log_2 (5/8) -2/8 \\log_2 (2/8) - 1/8 \\log_2 (1/8) = 1.2987949406953985,\n",
    "$$\n",
    "indeed:"
   ]
  },
  {
   "cell_type": "code",
   "execution_count": 4,
   "metadata": {},
   "outputs": [
    {
     "data": {
      "text/plain": [
       "1.2987949406953985"
      ]
     },
     "execution_count": 4,
     "metadata": {},
     "output_type": "execute_result"
    }
   ],
   "source": [
    "-5/8*math.log2(5/8)-2/8*math.log2(2/8)-1/8*math.log2(1/8)"
   ]
  },
  {
   "cell_type": "markdown",
   "metadata": {},
   "source": [
    "Note that the maximum entropy for $k = 3$ is $\\log_2(3) = 1.584962500721156$.\n",
    "\n",
    "**Information gain**:\n",
    "\n",
    "Now, imagine that we have a binary feature $X_1 = (1,1,0,1,1,0,1,0)$ along with our target variable $y = (0,0,1,0,2,0,1,0)$. \n",
    "We can now split our dataset $S$ into two parts using the rule $X_1 == 1$. \n",
    "The split of target variable reads\n",
    "$$\n",
    "    (0,0,0,2,1) \\quad \\text{and} \\quad (1,0,0).\n",
    "$$\n",
    "In general, any rule(s) split the starting dataset with $N$ data points to $\\ell$ disjoint subsets $T_1, T_2, \\ldots, T_\\ell$, put $t_i = \\#(T_i)/N$, the information gain for this split is the number\n",
    "$$\n",
    "    IG(S,X_1) = H(S) - \\sum_{j = 1}^\\ell t_i H(T_i). \n",
    "$$\n",
    "\n",
    "For our example the target variable of data points from $T_1$ are $(0,0,0,2,1)$ and $(1,0,0)$ for data points from $T_2$, this means that $\\ell = 2$, $t_1 = 5/8$ and $t_2 = 3/8$. We get\n",
    "$$\n",
    "    IG(S,X_1) = H(S) - 5/8 H(T_1) - 3/8 H(T_2)\n",
    "$$\n",
    "ande since $H(S) = 1.2987949406953985$ and \n",
    "$$\n",
    "    H(T_1) = -3/5 log_2 (3/5) - 1/5 \\log_2(1/5) - 1/5 \\log_2(1/5)\n",
    "$$\n",
    "and\n",
    "$$\n",
    "    H(T_2) = -2/3 log_2 (2/3) - 1/3 \\log_2(1/3),\n",
    "$$\n",
    "we have\n",
    "$$\n",
    "    IG(S,X_1) = 0.17683800642685465,\n",
    "$$\n",
    "indeed:"
   ]
  },
  {
   "cell_type": "code",
   "execution_count": 5,
   "metadata": {},
   "outputs": [
    {
     "name": "stdout",
     "output_type": "stream",
     "text": [
      "H(T1) =  1.3709505944546687\n",
      "H(T2) =  0.7069675006250021\n"
     ]
    },
    {
     "data": {
      "text/plain": [
       "0.17683800642685465"
      ]
     },
     "execution_count": 5,
     "metadata": {},
     "output_type": "execute_result"
    }
   ],
   "source": [
    "HS = -5/8*math.log2(5/8)-2/8*math.log2(2/8)-1/8*math.log2(1/8) \n",
    "HT1 = -3/5*math.log2(3/5)-2*(1/5*math.log2(1/5))\n",
    "HT2 = -2/3*math.log2(2/3)-1/5*math.log2(1/3)\n",
    "print('H(T1) = ', HT1)\n",
    "print('H(T2) = ', HT2)\n",
    "HS - 5/8*HT1 - 3/8*HT2"
   ]
  },
  {
   "cell_type": "markdown",
   "metadata": {},
   "source": [
    "### TASK: ID3 algorithm to construct a decision tree\n",
    "\n",
    "Use the ID3 algorithm to construct a decision tree of depth = 2 for the dataset `simple_data.csv` **by hand**.\n",
    "  * ID3 algorithm in [lecture](https://edux.fit.cvut.cz/courses/MI-ADM/_media/lectures/04/adm_trees_gm_v2-public.pdf), [wikipedia](https://en.wikipedia.org/wiki/ID3_algorithm) and the [original paper](http://citeseer.ist.psu.edu/viewdoc/download;jsessionid=035CBEB886DADA672E4ECE45D007B3C1?doi=10.1.1.167.3624&rep=rep1&type=pdf) by J.R. Quinlan from 1986.\n",
    "  * Decide whether the resulting tree is optimal. If not, try to find a better one. (Note that finding [the optimal decision tree is NP-complete](https://www.sciencedirect.com/science/article/pii/0020019076900958))."
   ]
  },
  {
   "cell_type": "code",
   "execution_count": 6,
   "metadata": {},
   "outputs": [
    {
     "data": {
      "text/html": [
       "<div>\n",
       "<style scoped>\n",
       "    .dataframe tbody tr th:only-of-type {\n",
       "        vertical-align: middle;\n",
       "    }\n",
       "\n",
       "    .dataframe tbody tr th {\n",
       "        vertical-align: top;\n",
       "    }\n",
       "\n",
       "    .dataframe thead th {\n",
       "        text-align: right;\n",
       "    }\n",
       "</style>\n",
       "<table border=\"1\" class=\"dataframe\">\n",
       "  <thead>\n",
       "    <tr style=\"text-align: right;\">\n",
       "      <th></th>\n",
       "      <th>T</th>\n",
       "      <th>F1</th>\n",
       "      <th>F2</th>\n",
       "      <th>F3</th>\n",
       "    </tr>\n",
       "  </thead>\n",
       "  <tbody>\n",
       "    <tr>\n",
       "      <th>0</th>\n",
       "      <td>1</td>\n",
       "      <td>1</td>\n",
       "      <td>0</td>\n",
       "      <td>0</td>\n",
       "    </tr>\n",
       "    <tr>\n",
       "      <th>1</th>\n",
       "      <td>1</td>\n",
       "      <td>0</td>\n",
       "      <td>1</td>\n",
       "      <td>1</td>\n",
       "    </tr>\n",
       "    <tr>\n",
       "      <th>2</th>\n",
       "      <td>1</td>\n",
       "      <td>1</td>\n",
       "      <td>0</td>\n",
       "      <td>0</td>\n",
       "    </tr>\n",
       "    <tr>\n",
       "      <th>3</th>\n",
       "      <td>1</td>\n",
       "      <td>1</td>\n",
       "      <td>1</td>\n",
       "      <td>1</td>\n",
       "    </tr>\n",
       "    <tr>\n",
       "      <th>4</th>\n",
       "      <td>0</td>\n",
       "      <td>0</td>\n",
       "      <td>0</td>\n",
       "      <td>1</td>\n",
       "    </tr>\n",
       "    <tr>\n",
       "      <th>5</th>\n",
       "      <td>0</td>\n",
       "      <td>0</td>\n",
       "      <td>1</td>\n",
       "      <td>0</td>\n",
       "    </tr>\n",
       "    <tr>\n",
       "      <th>6</th>\n",
       "      <td>0</td>\n",
       "      <td>0</td>\n",
       "      <td>0</td>\n",
       "      <td>1</td>\n",
       "    </tr>\n",
       "    <tr>\n",
       "      <th>7</th>\n",
       "      <td>0</td>\n",
       "      <td>1</td>\n",
       "      <td>1</td>\n",
       "      <td>0</td>\n",
       "    </tr>\n",
       "  </tbody>\n",
       "</table>\n",
       "</div>"
      ],
      "text/plain": [
       "   T  F1  F2  F3\n",
       "0  1   1   0   0\n",
       "1  1   0   1   1\n",
       "2  1   1   0   0\n",
       "3  1   1   1   1\n",
       "4  0   0   0   1\n",
       "5  0   0   1   0\n",
       "6  0   0   0   1\n",
       "7  0   1   1   0"
      ]
     },
     "metadata": {},
     "output_type": "display_data"
    },
    {
     "data": {
      "text/plain": [
       "DecisionTreeClassifier(class_weight=None, criterion='entropy', max_depth=2,\n",
       "            max_features=None, max_leaf_nodes=None,\n",
       "            min_impurity_decrease=0.0, min_impurity_split=None,\n",
       "            min_samples_leaf=1, min_samples_split=2,\n",
       "            min_weight_fraction_leaf=0.0, presort=False, random_state=None,\n",
       "            splitter='best')"
      ]
     },
     "execution_count": 6,
     "metadata": {},
     "output_type": "execute_result"
    }
   ],
   "source": [
    "# here we check our result using sklearn\n",
    "data = pd.read_csv('simple_data.csv', sep=';')\n",
    "display(data.head(16)) \n",
    "dt = DecisionTreeClassifier(criterion='entropy', max_depth=2)\n",
    "dt.fit(data.iloc[:,1:],data['T'])"
   ]
  },
  {
   "cell_type": "code",
   "execution_count": 8,
   "metadata": {},
   "outputs": [
    {
     "data": {
      "image/png": "[encoded data removed]",
      "text/plain": [
       "<IPython.core.display.Image object>"
      ]
     },
     "metadata": {},
     "output_type": "display_data"
    }
   ],
   "source": [
    "# we can plot the tree using Graphviz\n",
    "# the Grapwhiz must be installed on your system, if you do not want to bother, use http://webgraphviz.com/\n",
    "from sklearn.externals.six import StringIO  \n",
    "from IPython.display import Image  \n",
    "import pydotplus\n",
    "\n",
    "def plotTree(dt):\n",
    "    dot_data = StringIO()\n",
    "    tree.export_graphviz(dt, out_file=dot_data,  \n",
    "                    filled=True, rounded=True,\n",
    "                    special_characters=True)\n",
    "    graph = pydotplus.graph_from_dot_data(dot_data.getvalue())  \n",
    "    display(Image(graph.create_png()))\n",
    "\n",
    "plotTree(dt)"
   ]
  },
  {
   "cell_type": "markdown",
   "metadata": {},
   "source": [
    "## Continuous features and C4.5 / C5.0 algorithm\n",
    "\n",
    "  * The ID3 algorithm cannot deal with continuous features, however, its successor C4.5 (resp. C5.0) can:\n",
    "    * Discretisation by giving a finite set of disjoint intervals.\n",
    "    * Setting a decision boundary so that the split maximizes the information gain given by the resulting split.\n",
    "    * Here is a book on C4.5 algorithm called [C4.5](https://www.amazon.de/C4-5-Programs-Machine-Learning-Kaufmann/dp/1558602380)!!"
   ]
  },
  {
   "cell_type": "code",
   "execution_count": 34,
   "metadata": {},
   "outputs": [],
   "source": [
    "import matplotlib\n",
    "import matplotlib.pyplot as plt\n",
    "from sklearn.model_selection import train_test_split\n",
    "from sklearn.tree import DecisionTreeRegressor\n",
    "import sklearn.metrics as metrics\n",
    "\n",
    "%matplotlib inline"
   ]
  },
  {
   "cell_type": "code",
   "execution_count": 36,
   "metadata": {},
   "outputs": [
    {
     "data": {
      "text/html": [
       "<div>\n",
       "<style scoped>\n",
       "    .dataframe tbody tr th:only-of-type {\n",
       "        vertical-align: middle;\n",
       "    }\n",
       "\n",
       "    .dataframe tbody tr th {\n",
       "        vertical-align: top;\n",
       "    }\n",
       "\n",
       "    .dataframe thead th {\n",
       "        text-align: right;\n",
       "    }\n",
       "</style>\n",
       "<table border=\"1\" class=\"dataframe\">\n",
       "  <thead>\n",
       "    <tr style=\"text-align: right;\">\n",
       "      <th></th>\n",
       "      <th>age</th>\n",
       "      <th>workclass</th>\n",
       "      <th>fnlwgt</th>\n",
       "      <th>education</th>\n",
       "      <th>education.num</th>\n",
       "      <th>marital.status</th>\n",
       "      <th>occupation</th>\n",
       "      <th>relationship</th>\n",
       "      <th>race</th>\n",
       "      <th>sex</th>\n",
       "      <th>capital.gain</th>\n",
       "      <th>capital.loss</th>\n",
       "      <th>hours.per.week</th>\n",
       "      <th>native.country</th>\n",
       "      <th>income</th>\n",
       "    </tr>\n",
       "  </thead>\n",
       "  <tbody>\n",
       "    <tr>\n",
       "      <th>0</th>\n",
       "      <td>90</td>\n",
       "      <td>?</td>\n",
       "      <td>77053</td>\n",
       "      <td>HS-grad</td>\n",
       "      <td>9</td>\n",
       "      <td>Widowed</td>\n",
       "      <td>?</td>\n",
       "      <td>Not-in-family</td>\n",
       "      <td>White</td>\n",
       "      <td>Female</td>\n",
       "      <td>0</td>\n",
       "      <td>4356</td>\n",
       "      <td>40</td>\n",
       "      <td>United-States</td>\n",
       "      <td>&lt;=50K</td>\n",
       "    </tr>\n",
       "    <tr>\n",
       "      <th>1</th>\n",
       "      <td>82</td>\n",
       "      <td>Private</td>\n",
       "      <td>132870</td>\n",
       "      <td>HS-grad</td>\n",
       "      <td>9</td>\n",
       "      <td>Widowed</td>\n",
       "      <td>Exec-managerial</td>\n",
       "      <td>Not-in-family</td>\n",
       "      <td>White</td>\n",
       "      <td>Female</td>\n",
       "      <td>0</td>\n",
       "      <td>4356</td>\n",
       "      <td>18</td>\n",
       "      <td>United-States</td>\n",
       "      <td>&lt;=50K</td>\n",
       "    </tr>\n",
       "    <tr>\n",
       "      <th>2</th>\n",
       "      <td>66</td>\n",
       "      <td>?</td>\n",
       "      <td>186061</td>\n",
       "      <td>Some-college</td>\n",
       "      <td>10</td>\n",
       "      <td>Widowed</td>\n",
       "      <td>?</td>\n",
       "      <td>Unmarried</td>\n",
       "      <td>Black</td>\n",
       "      <td>Female</td>\n",
       "      <td>0</td>\n",
       "      <td>4356</td>\n",
       "      <td>40</td>\n",
       "      <td>United-States</td>\n",
       "      <td>&lt;=50K</td>\n",
       "    </tr>\n",
       "    <tr>\n",
       "      <th>3</th>\n",
       "      <td>54</td>\n",
       "      <td>Private</td>\n",
       "      <td>140359</td>\n",
       "      <td>7th-8th</td>\n",
       "      <td>4</td>\n",
       "      <td>Divorced</td>\n",
       "      <td>Machine-op-inspct</td>\n",
       "      <td>Unmarried</td>\n",
       "      <td>White</td>\n",
       "      <td>Female</td>\n",
       "      <td>0</td>\n",
       "      <td>3900</td>\n",
       "      <td>40</td>\n",
       "      <td>United-States</td>\n",
       "      <td>&lt;=50K</td>\n",
       "    </tr>\n",
       "    <tr>\n",
       "      <th>4</th>\n",
       "      <td>41</td>\n",
       "      <td>Private</td>\n",
       "      <td>264663</td>\n",
       "      <td>Some-college</td>\n",
       "      <td>10</td>\n",
       "      <td>Separated</td>\n",
       "      <td>Prof-specialty</td>\n",
       "      <td>Own-child</td>\n",
       "      <td>White</td>\n",
       "      <td>Female</td>\n",
       "      <td>0</td>\n",
       "      <td>3900</td>\n",
       "      <td>40</td>\n",
       "      <td>United-States</td>\n",
       "      <td>&lt;=50K</td>\n",
       "    </tr>\n",
       "  </tbody>\n",
       "</table>\n",
       "</div>"
      ],
      "text/plain": [
       "   age workclass  fnlwgt     education  education.num marital.status  \\\n",
       "0   90         ?   77053       HS-grad              9        Widowed   \n",
       "1   82   Private  132870       HS-grad              9        Widowed   \n",
       "2   66         ?  186061  Some-college             10        Widowed   \n",
       "3   54   Private  140359       7th-8th              4       Divorced   \n",
       "4   41   Private  264663  Some-college             10      Separated   \n",
       "\n",
       "          occupation   relationship   race     sex  capital.gain  \\\n",
       "0                  ?  Not-in-family  White  Female             0   \n",
       "1    Exec-managerial  Not-in-family  White  Female             0   \n",
       "2                  ?      Unmarried  Black  Female             0   \n",
       "3  Machine-op-inspct      Unmarried  White  Female             0   \n",
       "4     Prof-specialty      Own-child  White  Female             0   \n",
       "\n",
       "   capital.loss  hours.per.week native.country income  \n",
       "0          4356              40  United-States  <=50K  \n",
       "1          4356              18  United-States  <=50K  \n",
       "2          4356              40  United-States  <=50K  \n",
       "3          3900              40  United-States  <=50K  \n",
       "4          3900              40  United-States  <=50K  "
      ]
     },
     "execution_count": 36,
     "metadata": {},
     "output_type": "execute_result"
    }
   ],
   "source": [
    "data2 = pd.read_csv('adult-census.csv')\n",
    "data2.head()"
   ]
  },
  {
   "cell_type": "code",
   "execution_count": 38,
   "metadata": {},
   "outputs": [
    {
     "name": "stdout",
     "output_type": "stream",
     "text": [
      "<class 'pandas.core.frame.DataFrame'>\n",
      "RangeIndex: 32561 entries, 0 to 32560\n",
      "Data columns (total 15 columns):\n",
      "age               32561 non-null int64\n",
      "workclass         32561 non-null object\n",
      "fnlwgt            32561 non-null int64\n",
      "education         32561 non-null object\n",
      "education.num     32561 non-null int64\n",
      "marital.status    32561 non-null object\n",
      "occupation        32561 non-null object\n",
      "relationship      32561 non-null object\n",
      "race              32561 non-null object\n",
      "sex               32561 non-null object\n",
      "capital.gain      32561 non-null int64\n",
      "capital.loss      32561 non-null int64\n",
      "hours.per.week    32561 non-null int64\n",
      "native.country    32561 non-null object\n",
      "income            32561 non-null object\n",
      "dtypes: int64(6), object(9)\n",
      "memory usage: 3.7+ MB\n"
     ]
    }
   ],
   "source": [
    "data2.info()"
   ]
  },
  {
   "cell_type": "code",
   "execution_count": 45,
   "metadata": {},
   "outputs": [
    {
     "name": "stdout",
     "output_type": "stream",
     "text": [
      "<class 'pandas.core.frame.DataFrame'>\n",
      "RangeIndex: 32561 entries, 0 to 32560\n",
      "Data columns (total 15 columns):\n",
      "age               32561 non-null int64\n",
      "workclass         30725 non-null object\n",
      "fnlwgt            32561 non-null int64\n",
      "education         32561 non-null object\n",
      "education.num     32561 non-null int64\n",
      "marital.status    32561 non-null object\n",
      "occupation        30718 non-null object\n",
      "relationship      32561 non-null object\n",
      "race              32561 non-null object\n",
      "sex               32561 non-null object\n",
      "capital.gain      32561 non-null int64\n",
      "capital.loss      32561 non-null int64\n",
      "hours.per.week    32561 non-null int64\n",
      "native.country    31978 non-null object\n",
      "income            32561 non-null object\n",
      "dtypes: int64(6), object(9)\n",
      "memory usage: 3.7+ MB\n"
     ]
    }
   ],
   "source": [
    "data2 = data2.replace('?', np.nan)\n",
    "data2.info()"
   ]
  },
  {
   "cell_type": "code",
   "execution_count": 52,
   "metadata": {},
   "outputs": [],
   "source": [
    "#Xdata = data2.drop(columns=['income'])\n",
    "#ydata = data2.income"
   ]
  },
  {
   "cell_type": "code",
   "execution_count": 53,
   "metadata": {},
   "outputs": [
    {
     "data": {
      "text/plain": [
       "age                  73\n",
       "workclass             8\n",
       "fnlwgt            21648\n",
       "education            16\n",
       "education.num        16\n",
       "marital.status        7\n",
       "occupation           14\n",
       "relationship          6\n",
       "race                  5\n",
       "sex                   2\n",
       "capital.gain        119\n",
       "capital.loss         92\n",
       "hours.per.week       94\n",
       "native.country       41\n",
       "income                2\n",
       "dtype: int64"
      ]
     },
     "execution_count": 53,
     "metadata": {},
     "output_type": "execute_result"
    }
   ],
   "source": [
    "from sklearn.tree import DecisionTreeClassifier\n",
    "data2.nunique()"
   ]
  },
  {
   "cell_type": "code",
   "execution_count": 54,
   "metadata": {},
   "outputs": [
    {
     "data": {
      "text/plain": [
       "Private             22696\n",
       "Self-emp-not-inc     2541\n",
       "Local-gov            2093\n",
       "NaN                  1836\n",
       "State-gov            1298\n",
       "Self-emp-inc         1116\n",
       "Federal-gov           960\n",
       "Without-pay            14\n",
       "Never-worked            7\n",
       "Name: workclass, dtype: int64"
      ]
     },
     "execution_count": 54,
     "metadata": {},
     "output_type": "execute_result"
    }
   ],
   "source": [
    "data2.workclass.value_counts(dropna = False)"
   ]
  },
  {
   "cell_type": "code",
   "execution_count": 63,
   "metadata": {},
   "outputs": [
    {
     "data": {
      "text/plain": [
       "<=50K    0.895969\n",
       ">50K     0.104031\n",
       "Name: income, dtype: float64"
      ]
     },
     "metadata": {},
     "output_type": "display_data"
    },
    {
     "data": {
      "text/plain": [
       "<=50K    0.751017\n",
       ">50K     0.248983\n",
       "Name: income, dtype: float64"
      ]
     },
     "metadata": {},
     "output_type": "display_data"
    },
    {
     "data": {
      "text/plain": [
       "<=50K    0.75919\n",
       ">50K     0.24081\n",
       "Name: income, dtype: float64"
      ]
     },
     "metadata": {},
     "output_type": "display_data"
    }
   ],
   "source": [
    "# ma jiny pomer, nevyhazoval bych je nestrane\n",
    "display(data2[data2.workclass.isnull()].income.value_counts(normalize=True))\n",
    "display(data2[data2.workclass.notnull()].income.value_counts(normalize=True))\n",
    "display(data2.income.value_counts(normalize=True))"
   ]
  },
  {
   "cell_type": "code",
   "execution_count": 73,
   "metadata": {},
   "outputs": [
    {
     "name": "stdout",
     "output_type": "stream",
     "text": [
      "<class 'pandas.core.frame.DataFrame'>\n",
      "RangeIndex: 32561 entries, 0 to 32560\n",
      "Data columns (total 15 columns):\n",
      "age               32561 non-null int64\n",
      "workclass         32561 non-null int8\n",
      "fnlwgt            32561 non-null int64\n",
      "education         32561 non-null int8\n",
      "education.num     32561 non-null int64\n",
      "marital.status    32561 non-null int8\n",
      "occupation        32561 non-null int8\n",
      "relationship      32561 non-null int8\n",
      "race              32561 non-null int8\n",
      "sex               32561 non-null int8\n",
      "capital.gain      32561 non-null int64\n",
      "capital.loss      32561 non-null int64\n",
      "hours.per.week    32561 non-null int64\n",
      "native.country    32561 non-null int8\n",
      "income            32561 non-null int8\n",
      "dtypes: int64(6), int8(9)\n",
      "memory usage: 1.8 MB\n"
     ]
    }
   ],
   "source": [
    "str_cols = data2.select_dtypes('category').columns\n",
    "for col in str_cols:\n",
    "    data2[col] = data2[col].astype('category')\n",
    "    data2[col] = data2[col].cat.codes\n",
    "data2.info()"
   ]
  },
  {
   "cell_type": "code",
   "execution_count": 74,
   "metadata": {},
   "outputs": [
    {
     "ename": "AttributeError",
     "evalue": "Can only use .cat accessor with a 'category' dtype",
     "output_type": "error",
     "traceback": [
      "\u001b[0;31m---------------------------------------------------------------------------\u001b[0m",
      "\u001b[0;31mAttributeError\u001b[0m                            Traceback (most recent call last)",
      "\u001b[0;32m<ipython-input-74-c4ea6c9a41a4>\u001b[0m in \u001b[0;36m<module>\u001b[0;34m\u001b[0m\n\u001b[0;32m----> 1\u001b[0;31m \u001b[0mdata2\u001b[0m\u001b[0;34m.\u001b[0m\u001b[0mworkclass\u001b[0m\u001b[0;34m.\u001b[0m\u001b[0mcat\u001b[0m\u001b[0;34m.\u001b[0m\u001b[0mcodes\u001b[0m\u001b[0;34m.\u001b[0m\u001b[0mvalue_counts\u001b[0m\u001b[0;34m(\u001b[0m\u001b[0;34m)\u001b[0m\u001b[0;34m\u001b[0m\u001b[0;34m\u001b[0m\u001b[0m\n\u001b[0m",
      "\u001b[0;32m~/MI-ADM2019/__venv__/lib/python3.7/site-packages/pandas/core/generic.py\u001b[0m in \u001b[0;36m__getattr__\u001b[0;34m(self, name)\u001b[0m\n\u001b[1;32m   5061\u001b[0m         if (name in self._internal_names_set or name in self._metadata or\n\u001b[1;32m   5062\u001b[0m                 name in self._accessors):\n\u001b[0;32m-> 5063\u001b[0;31m             \u001b[0;32mreturn\u001b[0m \u001b[0mobject\u001b[0m\u001b[0;34m.\u001b[0m\u001b[0m__getattribute__\u001b[0m\u001b[0;34m(\u001b[0m\u001b[0mself\u001b[0m\u001b[0;34m,\u001b[0m \u001b[0mname\u001b[0m\u001b[0;34m)\u001b[0m\u001b[0;34m\u001b[0m\u001b[0;34m\u001b[0m\u001b[0m\n\u001b[0m\u001b[1;32m   5064\u001b[0m         \u001b[0;32melse\u001b[0m\u001b[0;34m:\u001b[0m\u001b[0;34m\u001b[0m\u001b[0;34m\u001b[0m\u001b[0m\n\u001b[1;32m   5065\u001b[0m             \u001b[0;32mif\u001b[0m \u001b[0mself\u001b[0m\u001b[0;34m.\u001b[0m\u001b[0m_info_axis\u001b[0m\u001b[0;34m.\u001b[0m\u001b[0m_can_hold_identifiers_and_holds_name\u001b[0m\u001b[0;34m(\u001b[0m\u001b[0mname\u001b[0m\u001b[0;34m)\u001b[0m\u001b[0;34m:\u001b[0m\u001b[0;34m\u001b[0m\u001b[0;34m\u001b[0m\u001b[0m\n",
      "\u001b[0;32m~/MI-ADM2019/__venv__/lib/python3.7/site-packages/pandas/core/accessor.py\u001b[0m in \u001b[0;36m__get__\u001b[0;34m(self, obj, cls)\u001b[0m\n\u001b[1;32m    169\u001b[0m             \u001b[0;31m# we're accessing the attribute of the class, i.e., Dataset.geo\u001b[0m\u001b[0;34m\u001b[0m\u001b[0;34m\u001b[0m\u001b[0;34m\u001b[0m\u001b[0m\n\u001b[1;32m    170\u001b[0m             \u001b[0;32mreturn\u001b[0m \u001b[0mself\u001b[0m\u001b[0;34m.\u001b[0m\u001b[0m_accessor\u001b[0m\u001b[0;34m\u001b[0m\u001b[0;34m\u001b[0m\u001b[0m\n\u001b[0;32m--> 171\u001b[0;31m         \u001b[0maccessor_obj\u001b[0m \u001b[0;34m=\u001b[0m \u001b[0mself\u001b[0m\u001b[0;34m.\u001b[0m\u001b[0m_accessor\u001b[0m\u001b[0;34m(\u001b[0m\u001b[0mobj\u001b[0m\u001b[0;34m)\u001b[0m\u001b[0;34m\u001b[0m\u001b[0;34m\u001b[0m\u001b[0m\n\u001b[0m\u001b[1;32m    172\u001b[0m         \u001b[0;31m# Replace the property with the accessor object. Inspired by:\u001b[0m\u001b[0;34m\u001b[0m\u001b[0;34m\u001b[0m\u001b[0;34m\u001b[0m\u001b[0m\n\u001b[1;32m    173\u001b[0m         \u001b[0;31m# http://www.pydanny.com/cached-property.html\u001b[0m\u001b[0;34m\u001b[0m\u001b[0;34m\u001b[0m\u001b[0;34m\u001b[0m\u001b[0m\n",
      "\u001b[0;32m~/MI-ADM2019/__venv__/lib/python3.7/site-packages/pandas/core/arrays/categorical.py\u001b[0m in \u001b[0;36m__init__\u001b[0;34m(self, data)\u001b[0m\n\u001b[1;32m   2489\u001b[0m \u001b[0;34m\u001b[0m\u001b[0m\n\u001b[1;32m   2490\u001b[0m     \u001b[0;32mdef\u001b[0m \u001b[0m__init__\u001b[0m\u001b[0;34m(\u001b[0m\u001b[0mself\u001b[0m\u001b[0;34m,\u001b[0m \u001b[0mdata\u001b[0m\u001b[0;34m)\u001b[0m\u001b[0;34m:\u001b[0m\u001b[0;34m\u001b[0m\u001b[0;34m\u001b[0m\u001b[0m\n\u001b[0;32m-> 2491\u001b[0;31m         \u001b[0mself\u001b[0m\u001b[0;34m.\u001b[0m\u001b[0m_validate\u001b[0m\u001b[0;34m(\u001b[0m\u001b[0mdata\u001b[0m\u001b[0;34m)\u001b[0m\u001b[0;34m\u001b[0m\u001b[0;34m\u001b[0m\u001b[0m\n\u001b[0m\u001b[1;32m   2492\u001b[0m         \u001b[0mself\u001b[0m\u001b[0;34m.\u001b[0m\u001b[0m_parent\u001b[0m \u001b[0;34m=\u001b[0m \u001b[0mdata\u001b[0m\u001b[0;34m.\u001b[0m\u001b[0mvalues\u001b[0m\u001b[0;34m\u001b[0m\u001b[0;34m\u001b[0m\u001b[0m\n\u001b[1;32m   2493\u001b[0m         \u001b[0mself\u001b[0m\u001b[0;34m.\u001b[0m\u001b[0m_index\u001b[0m \u001b[0;34m=\u001b[0m \u001b[0mdata\u001b[0m\u001b[0;34m.\u001b[0m\u001b[0mindex\u001b[0m\u001b[0;34m\u001b[0m\u001b[0;34m\u001b[0m\u001b[0m\n",
      "\u001b[0;32m~/MI-ADM2019/__venv__/lib/python3.7/site-packages/pandas/core/arrays/categorical.py\u001b[0m in \u001b[0;36m_validate\u001b[0;34m(data)\u001b[0m\n\u001b[1;32m   2498\u001b[0m     \u001b[0;32mdef\u001b[0m \u001b[0m_validate\u001b[0m\u001b[0;34m(\u001b[0m\u001b[0mdata\u001b[0m\u001b[0;34m)\u001b[0m\u001b[0;34m:\u001b[0m\u001b[0;34m\u001b[0m\u001b[0;34m\u001b[0m\u001b[0m\n\u001b[1;32m   2499\u001b[0m         \u001b[0;32mif\u001b[0m \u001b[0;32mnot\u001b[0m \u001b[0mis_categorical_dtype\u001b[0m\u001b[0;34m(\u001b[0m\u001b[0mdata\u001b[0m\u001b[0;34m.\u001b[0m\u001b[0mdtype\u001b[0m\u001b[0;34m)\u001b[0m\u001b[0;34m:\u001b[0m\u001b[0;34m\u001b[0m\u001b[0;34m\u001b[0m\u001b[0m\n\u001b[0;32m-> 2500\u001b[0;31m             raise AttributeError(\"Can only use .cat accessor with a \"\n\u001b[0m\u001b[1;32m   2501\u001b[0m                                  \"'category' dtype\")\n\u001b[1;32m   2502\u001b[0m \u001b[0;34m\u001b[0m\u001b[0m\n",
      "\u001b[0;31mAttributeError\u001b[0m: Can only use .cat accessor with a 'category' dtype"
     ]
    }
   ],
   "source": [
    "data2.workclass.cat.codes.value_counts()"
   ]
  },
  {
   "cell_type": "code",
   "execution_count": 75,
   "metadata": {},
   "outputs": [
    {
     "data": {
      "text/html": [
       "<div>\n",
       "<style scoped>\n",
       "    .dataframe tbody tr th:only-of-type {\n",
       "        vertical-align: middle;\n",
       "    }\n",
       "\n",
       "    .dataframe tbody tr th {\n",
       "        vertical-align: top;\n",
       "    }\n",
       "\n",
       "    .dataframe thead th {\n",
       "        text-align: right;\n",
       "    }\n",
       "</style>\n",
       "<table border=\"1\" class=\"dataframe\">\n",
       "  <thead>\n",
       "    <tr style=\"text-align: right;\">\n",
       "      <th></th>\n",
       "      <th>age</th>\n",
       "      <th>workclass</th>\n",
       "      <th>fnlwgt</th>\n",
       "      <th>education</th>\n",
       "      <th>education.num</th>\n",
       "      <th>marital.status</th>\n",
       "      <th>occupation</th>\n",
       "      <th>relationship</th>\n",
       "      <th>race</th>\n",
       "      <th>sex</th>\n",
       "      <th>capital.gain</th>\n",
       "      <th>capital.loss</th>\n",
       "      <th>hours.per.week</th>\n",
       "      <th>native.country</th>\n",
       "      <th>income</th>\n",
       "    </tr>\n",
       "  </thead>\n",
       "  <tbody>\n",
       "    <tr>\n",
       "      <th>0</th>\n",
       "      <td>90</td>\n",
       "      <td>-1</td>\n",
       "      <td>77053</td>\n",
       "      <td>11</td>\n",
       "      <td>9</td>\n",
       "      <td>6</td>\n",
       "      <td>-1</td>\n",
       "      <td>1</td>\n",
       "      <td>4</td>\n",
       "      <td>0</td>\n",
       "      <td>0</td>\n",
       "      <td>4356</td>\n",
       "      <td>40</td>\n",
       "      <td>38</td>\n",
       "      <td>0</td>\n",
       "    </tr>\n",
       "    <tr>\n",
       "      <th>1</th>\n",
       "      <td>82</td>\n",
       "      <td>3</td>\n",
       "      <td>132870</td>\n",
       "      <td>11</td>\n",
       "      <td>9</td>\n",
       "      <td>6</td>\n",
       "      <td>3</td>\n",
       "      <td>1</td>\n",
       "      <td>4</td>\n",
       "      <td>0</td>\n",
       "      <td>0</td>\n",
       "      <td>4356</td>\n",
       "      <td>18</td>\n",
       "      <td>38</td>\n",
       "      <td>0</td>\n",
       "    </tr>\n",
       "    <tr>\n",
       "      <th>2</th>\n",
       "      <td>66</td>\n",
       "      <td>-1</td>\n",
       "      <td>186061</td>\n",
       "      <td>15</td>\n",
       "      <td>10</td>\n",
       "      <td>6</td>\n",
       "      <td>-1</td>\n",
       "      <td>4</td>\n",
       "      <td>2</td>\n",
       "      <td>0</td>\n",
       "      <td>0</td>\n",
       "      <td>4356</td>\n",
       "      <td>40</td>\n",
       "      <td>38</td>\n",
       "      <td>0</td>\n",
       "    </tr>\n",
       "    <tr>\n",
       "      <th>3</th>\n",
       "      <td>54</td>\n",
       "      <td>3</td>\n",
       "      <td>140359</td>\n",
       "      <td>5</td>\n",
       "      <td>4</td>\n",
       "      <td>0</td>\n",
       "      <td>6</td>\n",
       "      <td>4</td>\n",
       "      <td>4</td>\n",
       "      <td>0</td>\n",
       "      <td>0</td>\n",
       "      <td>3900</td>\n",
       "      <td>40</td>\n",
       "      <td>38</td>\n",
       "      <td>0</td>\n",
       "    </tr>\n",
       "    <tr>\n",
       "      <th>4</th>\n",
       "      <td>41</td>\n",
       "      <td>3</td>\n",
       "      <td>264663</td>\n",
       "      <td>15</td>\n",
       "      <td>10</td>\n",
       "      <td>5</td>\n",
       "      <td>9</td>\n",
       "      <td>3</td>\n",
       "      <td>4</td>\n",
       "      <td>0</td>\n",
       "      <td>0</td>\n",
       "      <td>3900</td>\n",
       "      <td>40</td>\n",
       "      <td>38</td>\n",
       "      <td>0</td>\n",
       "    </tr>\n",
       "  </tbody>\n",
       "</table>\n",
       "</div>"
      ],
      "text/plain": [
       "   age  workclass  fnlwgt  education  education.num  marital.status  \\\n",
       "0   90         -1   77053         11              9               6   \n",
       "1   82          3  132870         11              9               6   \n",
       "2   66         -1  186061         15             10               6   \n",
       "3   54          3  140359          5              4               0   \n",
       "4   41          3  264663         15             10               5   \n",
       "\n",
       "   occupation  relationship  race  sex  capital.gain  capital.loss  \\\n",
       "0          -1             1     4    0             0          4356   \n",
       "1           3             1     4    0             0          4356   \n",
       "2          -1             4     2    0             0          4356   \n",
       "3           6             4     4    0             0          3900   \n",
       "4           9             3     4    0             0          3900   \n",
       "\n",
       "   hours.per.week  native.country  income  \n",
       "0              40              38       0  \n",
       "1              18              38       0  \n",
       "2              40              38       0  \n",
       "3              40              38       0  \n",
       "4              40              38       0  "
      ]
     },
     "execution_count": 75,
     "metadata": {},
     "output_type": "execute_result"
    }
   ],
   "source": [
    "data2.head()\n"
   ]
  },
  {
   "cell_type": "code",
   "execution_count": null,
   "metadata": {},
   "outputs": [],
   "source": []
  },
  {
   "cell_type": "code",
   "execution_count": 76,
   "metadata": {},
   "outputs": [
    {
     "data": {
      "text/plain": [
       "DecisionTreeClassifier(class_weight=None, criterion='gini', max_depth=None,\n",
       "            max_features=None, max_leaf_nodes=None,\n",
       "            min_impurity_decrease=0.0, min_impurity_split=None,\n",
       "            min_samples_leaf=1, min_samples_split=2,\n",
       "            min_weight_fraction_leaf=0.0, presort=False, random_state=None,\n",
       "            splitter='best')"
      ]
     },
     "execution_count": 76,
     "metadata": {},
     "output_type": "execute_result"
    }
   ],
   "source": [
    "dt = DecisionTreeClassifier()\n",
    "dt.fit(data2.drop(columns=['income']), data2.income)"
   ]
  },
  {
   "cell_type": "code",
   "execution_count": 78,
   "metadata": {
    "scrolled": true
   },
   "outputs": [
    {
     "data": {
      "text/plain": [
       " 38    29170\n",
       " 25      643\n",
       "-1       583\n",
       " 29      198\n",
       " 10      137\n",
       " 1       121\n",
       " 32      114\n",
       " 7       106\n",
       " 18      100\n",
       " 4        95\n",
       " 8        90\n",
       " 22       81\n",
       " 34       80\n",
       " 2        75\n",
       " 21       73\n",
       " 5        70\n",
       " 39       67\n",
       " 12       64\n",
       " 23       62\n",
       " 30       60\n",
       " 3        59\n",
       " 35       51\n",
       " 13       44\n",
       " 19       43\n",
       " 31       37\n",
       " 26       34\n",
       " 28       31\n",
       " 9        29\n",
       " 11       29\n",
       " 6        28\n",
       " 20       24\n",
       " 16       20\n",
       " 37       19\n",
       " 0        19\n",
       " 24       18\n",
       " 36       18\n",
       " 40       16\n",
       " 27       14\n",
       " 17       13\n",
       " 15       13\n",
       " 33       12\n",
       " 14        1\n",
       "Name: native.country, dtype: int64"
      ]
     },
     "execution_count": 78,
     "metadata": {},
     "output_type": "execute_result"
    }
   ],
   "source": [
    "data2['native.country'].value_counts()"
   ]
  },
  {
   "cell_type": "code",
   "execution_count": null,
   "metadata": {},
   "outputs": [],
   "source": []
  },
  {
   "cell_type": "code",
   "execution_count": null,
   "metadata": {},
   "outputs": [],
   "source": []
  },
  {
   "cell_type": "code",
   "execution_count": null,
   "metadata": {},
   "outputs": [],
   "source": []
  },
  {
   "cell_type": "code",
   "execution_count": null,
   "metadata": {},
   "outputs": [],
   "source": []
  },
  {
   "cell_type": "markdown",
   "metadata": {},
   "source": [
    "The dataset is taken from Kaggel: [Adult Census Income](https://www.kaggle.com/uciml/adult-census-income/data), the target variable is in the last column."
   ]
  },
  {
   "cell_type": "code",
   "execution_count": 11,
   "metadata": {},
   "outputs": [
    {
     "name": "stdout",
     "output_type": "stream",
     "text": [
      "<class 'pandas.core.frame.DataFrame'>\n",
      "RangeIndex: 8 entries, 0 to 7\n",
      "Data columns (total 4 columns):\n",
      "T     8 non-null int64\n",
      "F1    8 non-null int64\n",
      "F2    8 non-null int64\n",
      "F3    8 non-null int64\n",
      "dtypes: int64(4)\n",
      "memory usage: 336.0 bytes\n"
     ]
    },
    {
     "data": {
      "text/plain": [
       "None"
      ]
     },
     "metadata": {},
     "output_type": "display_data"
    },
    {
     "data": {
      "text/plain": [
       "age                  73\n",
       "workclass             9\n",
       "fnlwgt            21648\n",
       "education            16\n",
       "education.num        16\n",
       "marital.status        7\n",
       "occupation           15\n",
       "relationship          6\n",
       "race                  5\n",
       "sex                   2\n",
       "capital.gain        119\n",
       "capital.loss         92\n",
       "hours.per.week       94\n",
       "native.country       42\n",
       "income                2\n",
       "dtype: int64"
      ]
     },
     "execution_count": 11,
     "metadata": {},
     "output_type": "execute_result"
    }
   ],
   "source": [
    "display(data.info())\n",
    "data2.nunique()"
   ]
  },
  {
   "cell_type": "code",
   "execution_count": 12,
   "metadata": {},
   "outputs": [
    {
     "name": "stdout",
     "output_type": "stream",
     "text": [
      "<class 'pandas.core.frame.DataFrame'>\n",
      "RangeIndex: 32561 entries, 0 to 32560\n",
      "Data columns (total 15 columns):\n",
      "age               32561 non-null int64\n",
      "workclass         30725 non-null object\n",
      "fnlwgt            32561 non-null int64\n",
      "education         32561 non-null object\n",
      "education.num     32561 non-null int64\n",
      "marital.status    32561 non-null object\n",
      "occupation        30718 non-null object\n",
      "relationship      32561 non-null object\n",
      "race              32561 non-null object\n",
      "sex               32561 non-null object\n",
      "capital.gain      32561 non-null int64\n",
      "capital.loss      32561 non-null int64\n",
      "hours.per.week    32561 non-null int64\n",
      "native.country    31978 non-null object\n",
      "income            32561 non-null object\n",
      "dtypes: int64(6), object(9)\n",
      "memory usage: 3.7+ MB\n"
     ]
    }
   ],
   "source": [
    "# replacing '?' with NaN\n",
    "data2 = data2.replace('?', np.nan)\n",
    "data2.info()"
   ]
  },
  {
   "cell_type": "code",
   "execution_count": 13,
   "metadata": {},
   "outputs": [
    {
     "name": "stdout",
     "output_type": "stream",
     "text": [
      "<class 'pandas.core.frame.DataFrame'>\n",
      "RangeIndex: 32561 entries, 0 to 32560\n",
      "Data columns (total 15 columns):\n",
      "age               32561 non-null int64\n",
      "workclass         30725 non-null category\n",
      "fnlwgt            32561 non-null int64\n",
      "education         32561 non-null category\n",
      "education.num     32561 non-null category\n",
      "marital.status    32561 non-null category\n",
      "occupation        30718 non-null category\n",
      "relationship      32561 non-null category\n",
      "race              32561 non-null category\n",
      "sex               32561 non-null category\n",
      "capital.gain      32561 non-null int64\n",
      "capital.loss      32561 non-null int64\n",
      "hours.per.week    32561 non-null int64\n",
      "native.country    31978 non-null category\n",
      "income            32561 non-null category\n",
      "dtypes: category(10), int64(5)\n",
      "memory usage: 1.6 MB\n"
     ]
    }
   ],
   "source": [
    "# categorical data as dtype = category\n",
    "from pandas.api.types import CategoricalDtype\n",
    "cat_columns = data2.columns[data2.nunique() < 50].drop('education.num')\n",
    "for column in cat_columns:\n",
    "    data2[column] = data2[column].astype('category')\n",
    "edu_level = CategoricalDtype(categories=[1,2,3,4,5,6,7,8,9,10,11,12,13,14,15,16], ordered=True)\n",
    "data2['education.num'] = data2['education.num'].astype(edu_level)\n",
    "data2.info()"
   ]
  },
  {
   "cell_type": "code",
   "execution_count": 14,
   "metadata": {},
   "outputs": [
    {
     "name": "stdout",
     "output_type": "stream",
     "text": [
      "<class 'pandas.core.frame.DataFrame'>\n",
      "RangeIndex: 32561 entries, 0 to 32560\n",
      "Data columns (total 15 columns):\n",
      "age               32561 non-null int64\n",
      "workclass         32561 non-null category\n",
      "fnlwgt            32561 non-null int64\n",
      "education         32561 non-null category\n",
      "education.num     32561 non-null category\n",
      "marital.status    32561 non-null category\n",
      "occupation        32561 non-null category\n",
      "relationship      32561 non-null category\n",
      "race              32561 non-null category\n",
      "sex               32561 non-null category\n",
      "capital.gain      32561 non-null int64\n",
      "capital.loss      32561 non-null int64\n",
      "hours.per.week    32561 non-null int64\n",
      "native.country    32561 non-null category\n",
      "income            32561 non-null category\n",
      "dtypes: category(10), int64(5)\n",
      "memory usage: 1.6 MB\n"
     ]
    }
   ],
   "source": [
    "# transform categories to numbers as DecisionTreeClassifier cannot treat strings, also NaN is coded as -1\n",
    "cat_columns = data2.select_dtypes(['category']).columns.drop('education.num')\n",
    "data2[cat_columns] = data2[cat_columns].apply(lambda x: x.cat.codes)\n",
    "for column in cat_columns:\n",
    "    data2[column] = data2[column].astype('category')\n",
    "data2.info()"
   ]
  },
  {
   "cell_type": "code",
   "execution_count": 15,
   "metadata": {},
   "outputs": [],
   "source": [
    "# education and education.num are the same\n",
    "data2.drop(['education'], inplace = True, axis = 1, errors='ignore')\n",
    "# data2 = data2.replace('-1', np.nan)"
   ]
  },
  {
   "cell_type": "code",
   "execution_count": 16,
   "metadata": {},
   "outputs": [
    {
     "data": {
      "text/plain": [
       "(24420, 13)"
      ]
     },
     "metadata": {},
     "output_type": "display_data"
    },
    {
     "data": {
      "text/plain": [
       "(24420,)"
      ]
     },
     "metadata": {},
     "output_type": "display_data"
    },
    {
     "data": {
      "text/plain": [
       "(8141,)"
      ]
     },
     "metadata": {},
     "output_type": "display_data"
    }
   ],
   "source": [
    "#data2 = data2.select_dtypes(include=['category'])\n",
    "#display(data2.head())\n",
    "X, Xtest, y, ytest = train_test_split(data2.iloc[:,:-1], data2.iloc[:,-1], test_size=0.25, random_state=33) \n",
    "display(X.shape)\n",
    "display(y.shape)\n",
    "display(ytest.shape)"
   ]
  },
  {
   "cell_type": "code",
   "execution_count": 17,
   "metadata": {},
   "outputs": [
    {
     "data": {
      "text/plain": [
       "DecisionTreeClassifier(class_weight=None, criterion='entropy', max_depth=70,\n",
       "            max_features=None, max_leaf_nodes=None,\n",
       "            min_impurity_decrease=0.0, min_impurity_split=None,\n",
       "            min_samples_leaf=1, min_samples_split=2,\n",
       "            min_weight_fraction_leaf=0.0, presort=False, random_state=None,\n",
       "            splitter='best')"
      ]
     },
     "execution_count": 17,
     "metadata": {},
     "output_type": "execute_result"
    }
   ],
   "source": [
    "dt = DecisionTreeClassifier(criterion='entropy', max_depth=70)\n",
    "dt.fit(X,y)"
   ]
  },
  {
   "cell_type": "code",
   "execution_count": 18,
   "metadata": {},
   "outputs": [
    {
     "name": "stdout",
     "output_type": "stream",
     "text": [
      "accuracy_score (train): 0.999959\n",
      "accuracy_score (test): 0.808623\n"
     ]
    }
   ],
   "source": [
    "print('accuracy_score (train): {0:.6f}'.format(metrics.accuracy_score(y, dt.predict(X))))\n",
    "print('accuracy_score (test): {0:.6f}'.format(metrics.accuracy_score(ytest, dt.predict(Xtest))))\n",
    "if dt.get_params()['max_depth'] < 4:\n",
    "    plotTree(dt)"
   ]
  },
  {
   "cell_type": "code",
   "execution_count": 19,
   "metadata": {},
   "outputs": [],
   "source": [
    "depths = range(1,50)\n",
    "train_acc = []\n",
    "test_acc = []\n",
    "for depth in depths:\n",
    "    dt = DecisionTreeClassifier(criterion='entropy', splitter='best', max_depth=depth)\n",
    "    dt.fit(X,y)\n",
    "    train_acc.append(metrics.accuracy_score(y, dt.predict(X)))\n",
    "    test_acc.append(metrics.accuracy_score(ytest, dt.predict(Xtest)))"
   ]
  },
  {
   "cell_type": "code",
   "execution_count": 20,
   "metadata": {},
   "outputs": [
    {
     "data": {
      "text/plain": [
       "<matplotlib.legend.Legend at 0x7f09db652160>"
      ]
     },
     "execution_count": 20,
     "metadata": {},
     "output_type": "execute_result"
    },
    {
     "data": {
      "image/png": "[encoded data removed]",
      "text/plain": [
       "<Figure size 432x432 with 1 Axes>"
      ]
     },
     "metadata": {
      "needs_background": "light"
     },
     "output_type": "display_data"
    }
   ],
   "source": [
    "plt.figure(figsize=(6,6))\n",
    "plt.plot(train_acc,'or-')\n",
    "plt.plot(test_acc,'ob-')\n",
    "plt.xlabel('max_depth')\n",
    "plt.ylabel('accuracy')\n",
    "plt.legend(['train', 'test'])"
   ]
  },
  {
   "cell_type": "markdown",
   "metadata": {},
   "source": [
    "### TASK: experiment with hyperparameters to avoid overfitting / improve performance\n",
    "\n",
    "  * See the [list of parameters](http://scikit-learn.org/stable/modules/generated/sklearn.tree.DecisionTreeClassifier.html) of DecisionTreeClassifier"
   ]
  },
  {
   "cell_type": "markdown",
   "metadata": {},
   "source": [
    "## Ensemble methods: bagging with random forests"
   ]
  },
  {
   "cell_type": "code",
   "execution_count": 21,
   "metadata": {},
   "outputs": [],
   "source": [
    "from sklearn.ensemble import RandomForestClassifier"
   ]
  },
  {
   "cell_type": "code",
   "execution_count": 22,
   "metadata": {},
   "outputs": [
    {
     "name": "stdout",
     "output_type": "stream",
     "text": [
      "accuracy_score (train): 0.814865\n",
      "accuracy_score (test): 0.810957\n"
     ]
    },
    {
     "data": {
      "text/plain": [
       "{'bootstrap': True,\n",
       " 'class_weight': None,\n",
       " 'criterion': 'gini',\n",
       " 'max_depth': 2,\n",
       " 'max_features': 5,\n",
       " 'max_leaf_nodes': None,\n",
       " 'min_impurity_decrease': 0.0,\n",
       " 'min_impurity_split': None,\n",
       " 'min_samples_leaf': 1,\n",
       " 'min_samples_split': 2,\n",
       " 'min_weight_fraction_leaf': 0.0,\n",
       " 'n_estimators': 1000,\n",
       " 'n_jobs': None,\n",
       " 'oob_score': False,\n",
       " 'random_state': None,\n",
       " 'verbose': 0,\n",
       " 'warm_start': False}"
      ]
     },
     "execution_count": 22,
     "metadata": {},
     "output_type": "execute_result"
    }
   ],
   "source": [
    "rf = RandomForestClassifier(n_estimators=1000, max_features=5, max_depth=2)\n",
    "rf.fit(X,y)\n",
    "print('accuracy_score (train): {0:.6f}'.format(metrics.accuracy_score(y, rf.predict(X))))\n",
    "print('accuracy_score (test): {0:.6f}'.format(metrics.accuracy_score(ytest, rf.predict(Xtest))))\n",
    "rf.get_params()"
   ]
  },
  {
   "cell_type": "markdown",
   "metadata": {},
   "source": [
    "## Regression with decision trees\n",
    "  \n",
    "  * Decision trees can be used even if the target variable is numeric (continuous).\n",
    "  * Splits are now selected to minimize weighted sample variance (or similar loss function). We split a dataset $S$ into $\\ell$ subsets $T_1, \\ldots, T_\\ell$ so that the following value is the least possible:\n",
    "  $$\n",
    "     \\sum_{i = 1}^\\ell t_i \\sum_{d \\in T_i} (y_d - \\overline{y}_{T_i})^2,\n",
    "  $$\n",
    "  where $\\overline{y}_{T_i}$ is the mean of the target variable $y$ within $T_i$ and $t_i = \\frac{\\#(T_i)}{\\#(S)}$.\n",
    "  * As the predicted value the mean of the resulting leaf is taken."
   ]
  },
  {
   "cell_type": "code",
   "execution_count": 23,
   "metadata": {},
   "outputs": [],
   "source": [
    "from sklearn.tree import DecisionTreeRegressor"
   ]
  },
  {
   "cell_type": "markdown",
   "metadata": {},
   "source": [
    "We use data where the target variable is the SalePrice for a house and features are some parameters of houses.\n",
    "  * It is again from [kaggle](https://www.kaggle.com/c/house-prices-advanced-regression-techniques/data).\n",
    "  * We use a version of dataset cleaned and modified in MI-PDD course."
   ]
  },
  {
   "cell_type": "code",
   "execution_count": 24,
   "metadata": {},
   "outputs": [
    {
     "data": {
      "text/html": [
       "<div>\n",
       "<style scoped>\n",
       "    .dataframe tbody tr th:only-of-type {\n",
       "        vertical-align: middle;\n",
       "    }\n",
       "\n",
       "    .dataframe tbody tr th {\n",
       "        vertical-align: top;\n",
       "    }\n",
       "\n",
       "    .dataframe thead th {\n",
       "        text-align: right;\n",
       "    }\n",
       "</style>\n",
       "<table border=\"1\" class=\"dataframe\">\n",
       "  <thead>\n",
       "    <tr style=\"text-align: right;\">\n",
       "      <th></th>\n",
       "      <th>MSSubClass</th>\n",
       "      <th>LotFrontage</th>\n",
       "      <th>LotArea</th>\n",
       "      <th>OverallQual</th>\n",
       "      <th>OverallCond</th>\n",
       "      <th>YearBuilt</th>\n",
       "      <th>YearRemodAdd</th>\n",
       "      <th>MasVnrArea</th>\n",
       "      <th>BsmtFinSF1</th>\n",
       "      <th>BsmtFinSF2</th>\n",
       "      <th>...</th>\n",
       "      <th>SqrtGrLivArea</th>\n",
       "      <th>LogGrLivArea</th>\n",
       "      <th>SqrtGarageArea</th>\n",
       "      <th>LogGarageArea</th>\n",
       "      <th>SqrtWoodDeckSF</th>\n",
       "      <th>LogWoodDeckSF</th>\n",
       "      <th>SqrtOpenPorchSF</th>\n",
       "      <th>LogOpenPorchSF</th>\n",
       "      <th>SqrtPoolArea</th>\n",
       "      <th>LogPoolArea</th>\n",
       "    </tr>\n",
       "  </thead>\n",
       "  <tbody>\n",
       "    <tr>\n",
       "      <th>1344</th>\n",
       "      <td>60</td>\n",
       "      <td>85.0</td>\n",
       "      <td>11103</td>\n",
       "      <td>7</td>\n",
       "      <td>5</td>\n",
       "      <td>2006</td>\n",
       "      <td>2006</td>\n",
       "      <td>0.0</td>\n",
       "      <td>0</td>\n",
       "      <td>0</td>\n",
       "      <td>...</td>\n",
       "      <td>38.157568</td>\n",
       "      <td>7.284135</td>\n",
       "      <td>20.976177</td>\n",
       "      <td>6.089045</td>\n",
       "      <td>0.000000</td>\n",
       "      <td>0.000000</td>\n",
       "      <td>0.000000</td>\n",
       "      <td>0.00000</td>\n",
       "      <td>0.0</td>\n",
       "      <td>0.0</td>\n",
       "    </tr>\n",
       "    <tr>\n",
       "      <th>265</th>\n",
       "      <td>20</td>\n",
       "      <td>78.0</td>\n",
       "      <td>12090</td>\n",
       "      <td>6</td>\n",
       "      <td>6</td>\n",
       "      <td>1981</td>\n",
       "      <td>1981</td>\n",
       "      <td>210.0</td>\n",
       "      <td>588</td>\n",
       "      <td>228</td>\n",
       "      <td>...</td>\n",
       "      <td>37.709415</td>\n",
       "      <td>7.260523</td>\n",
       "      <td>24.000000</td>\n",
       "      <td>6.357842</td>\n",
       "      <td>16.613248</td>\n",
       "      <td>5.624018</td>\n",
       "      <td>0.000000</td>\n",
       "      <td>0.00000</td>\n",
       "      <td>0.0</td>\n",
       "      <td>0.0</td>\n",
       "    </tr>\n",
       "    <tr>\n",
       "      <th>997</th>\n",
       "      <td>20</td>\n",
       "      <td>0.0</td>\n",
       "      <td>11717</td>\n",
       "      <td>6</td>\n",
       "      <td>6</td>\n",
       "      <td>1970</td>\n",
       "      <td>1970</td>\n",
       "      <td>571.0</td>\n",
       "      <td>0</td>\n",
       "      <td>0</td>\n",
       "      <td>...</td>\n",
       "      <td>37.973675</td>\n",
       "      <td>7.274480</td>\n",
       "      <td>24.799194</td>\n",
       "      <td>6.423247</td>\n",
       "      <td>19.261360</td>\n",
       "      <td>5.918894</td>\n",
       "      <td>0.000000</td>\n",
       "      <td>0.00000</td>\n",
       "      <td>0.0</td>\n",
       "      <td>0.0</td>\n",
       "    </tr>\n",
       "    <tr>\n",
       "      <th>824</th>\n",
       "      <td>20</td>\n",
       "      <td>81.0</td>\n",
       "      <td>11216</td>\n",
       "      <td>8</td>\n",
       "      <td>5</td>\n",
       "      <td>2006</td>\n",
       "      <td>2006</td>\n",
       "      <td>0.0</td>\n",
       "      <td>0</td>\n",
       "      <td>0</td>\n",
       "      <td>...</td>\n",
       "      <td>38.587563</td>\n",
       "      <td>7.306531</td>\n",
       "      <td>27.856777</td>\n",
       "      <td>6.655440</td>\n",
       "      <td>0.000000</td>\n",
       "      <td>0.000000</td>\n",
       "      <td>11.832160</td>\n",
       "      <td>4.94876</td>\n",
       "      <td>0.0</td>\n",
       "      <td>0.0</td>\n",
       "    </tr>\n",
       "    <tr>\n",
       "      <th>985</th>\n",
       "      <td>190</td>\n",
       "      <td>68.0</td>\n",
       "      <td>10880</td>\n",
       "      <td>5</td>\n",
       "      <td>5</td>\n",
       "      <td>1950</td>\n",
       "      <td>1950</td>\n",
       "      <td>0.0</td>\n",
       "      <td>1040</td>\n",
       "      <td>0</td>\n",
       "      <td>...</td>\n",
       "      <td>34.117444</td>\n",
       "      <td>7.060476</td>\n",
       "      <td>15.491933</td>\n",
       "      <td>5.484797</td>\n",
       "      <td>0.000000</td>\n",
       "      <td>0.000000</td>\n",
       "      <td>6.928203</td>\n",
       "      <td>3.89182</td>\n",
       "      <td>0.0</td>\n",
       "      <td>0.0</td>\n",
       "    </tr>\n",
       "  </tbody>\n",
       "</table>\n",
       "<p>5 rows × 64 columns</p>\n",
       "</div>"
      ],
      "text/plain": [
       "      MSSubClass  LotFrontage  LotArea  OverallQual  OverallCond  YearBuilt  \\\n",
       "1344          60         85.0    11103            7            5       2006   \n",
       "265           20         78.0    12090            6            6       1981   \n",
       "997           20          0.0    11717            6            6       1970   \n",
       "824           20         81.0    11216            8            5       2006   \n",
       "985          190         68.0    10880            5            5       1950   \n",
       "\n",
       "      YearRemodAdd  MasVnrArea  BsmtFinSF1  BsmtFinSF2  ...  SqrtGrLivArea  \\\n",
       "1344          2006         0.0           0           0  ...      38.157568   \n",
       "265           1981       210.0         588         228  ...      37.709415   \n",
       "997           1970       571.0           0           0  ...      37.973675   \n",
       "824           2006         0.0           0           0  ...      38.587563   \n",
       "985           1950         0.0        1040           0  ...      34.117444   \n",
       "\n",
       "      LogGrLivArea  SqrtGarageArea  LogGarageArea  SqrtWoodDeckSF  \\\n",
       "1344      7.284135       20.976177       6.089045        0.000000   \n",
       "265       7.260523       24.000000       6.357842       16.613248   \n",
       "997       7.274480       24.799194       6.423247       19.261360   \n",
       "824       7.306531       27.856777       6.655440        0.000000   \n",
       "985       7.060476       15.491933       5.484797        0.000000   \n",
       "\n",
       "      LogWoodDeckSF  SqrtOpenPorchSF  LogOpenPorchSF  SqrtPoolArea  \\\n",
       "1344       0.000000         0.000000         0.00000           0.0   \n",
       "265        5.624018         0.000000         0.00000           0.0   \n",
       "997        5.918894         0.000000         0.00000           0.0   \n",
       "824        0.000000        11.832160         4.94876           0.0   \n",
       "985        0.000000         6.928203         3.89182           0.0   \n",
       "\n",
       "      LogPoolArea  \n",
       "1344          0.0  \n",
       "265           0.0  \n",
       "997           0.0  \n",
       "824           0.0  \n",
       "985           0.0  \n",
       "\n",
       "[5 rows x 64 columns]"
      ]
     },
     "metadata": {},
     "output_type": "display_data"
    },
    {
     "name": "stdout",
     "output_type": "stream",
     "text": [
      "<class 'pandas.core.frame.DataFrame'>\n",
      "Int64Index: 1095 entries, 1344 to 623\n",
      "Data columns (total 64 columns):\n",
      "MSSubClass          1095 non-null int64\n",
      "LotFrontage         1095 non-null float64\n",
      "LotArea             1095 non-null int64\n",
      "OverallQual         1095 non-null int64\n",
      "OverallCond         1095 non-null int64\n",
      "YearBuilt           1095 non-null int64\n",
      "YearRemodAdd        1095 non-null int64\n",
      "MasVnrArea          1095 non-null float64\n",
      "BsmtFinSF1          1095 non-null int64\n",
      "BsmtFinSF2          1095 non-null int64\n",
      "BsmtUnfSF           1095 non-null int64\n",
      "TotalBsmtSF         1095 non-null int64\n",
      "1stFlrSF            1095 non-null int64\n",
      "2ndFlrSF            1095 non-null int64\n",
      "LowQualFinSF        1095 non-null int64\n",
      "GrLivArea           1095 non-null int64\n",
      "BsmtFullBath        1095 non-null int64\n",
      "BsmtHalfBath        1095 non-null int64\n",
      "FullBath            1095 non-null int64\n",
      "HalfBath            1095 non-null int64\n",
      "BedroomAbvGr        1095 non-null int64\n",
      "KitchenAbvGr        1095 non-null int64\n",
      "TotRmsAbvGrd        1095 non-null int64\n",
      "Fireplaces          1095 non-null int64\n",
      "GarageYrBlt         1095 non-null float64\n",
      "GarageCars          1095 non-null int64\n",
      "GarageArea          1095 non-null int64\n",
      "WoodDeckSF          1095 non-null int64\n",
      "OpenPorchSF         1095 non-null int64\n",
      "EnclosedPorch       1095 non-null int64\n",
      "3SsnPorch           1095 non-null int64\n",
      "ScreenPorch         1095 non-null int64\n",
      "PoolArea            1095 non-null int64\n",
      "MoSold              1095 non-null int64\n",
      "YrSold              1095 non-null int64\n",
      "SalePrice           1095 non-null float64\n",
      "SqrtLotArea         1095 non-null float64\n",
      "LogLotArea          1095 non-null float64\n",
      "SqrtMasVnrArea      1095 non-null float64\n",
      "LogMasVnrArea       1095 non-null float64\n",
      "SqrtBsmtFinSF1      1095 non-null float64\n",
      "LogBsmtFinSF1       1095 non-null float64\n",
      "SqrtBsmtFinSF2      1095 non-null float64\n",
      "LogBsmtFinSF2       1095 non-null float64\n",
      "SqrtBsmtUnfSF       1095 non-null float64\n",
      "LogBsmtUnfSF        1095 non-null float64\n",
      "SqrtTotalBsmtSF     1095 non-null float64\n",
      "LogTotalBsmtSF      1095 non-null float64\n",
      "Sqrt1stFlrSF        1095 non-null float64\n",
      "Log1stFlrSF         1095 non-null float64\n",
      "Sqrt2ndFlrSF        1095 non-null float64\n",
      "Log2ndFlrSF         1095 non-null float64\n",
      "SqrtLowQualFinSF    1095 non-null float64\n",
      "LogLowQualFinSF     1095 non-null float64\n",
      "SqrtGrLivArea       1095 non-null float64\n",
      "LogGrLivArea        1095 non-null float64\n",
      "SqrtGarageArea      1095 non-null float64\n",
      "LogGarageArea       1095 non-null float64\n",
      "SqrtWoodDeckSF      1095 non-null float64\n",
      "LogWoodDeckSF       1095 non-null float64\n",
      "SqrtOpenPorchSF     1095 non-null float64\n",
      "LogOpenPorchSF      1095 non-null float64\n",
      "SqrtPoolArea        1095 non-null float64\n",
      "LogPoolArea         1095 non-null float64\n",
      "dtypes: float64(32), int64(32)\n",
      "memory usage: 556.1 KB\n"
     ]
    },
    {
     "data": {
      "text/plain": [
       "None"
      ]
     },
     "metadata": {},
     "output_type": "display_data"
    }
   ],
   "source": [
    "# loading regression data\n",
    "data3 = pd.read_csv('data-houses.csv', index_col=0)\n",
    "data3.drop(['Id'], axis=1, inplace=True)\n",
    "display(data3.head())\n",
    "display(data3.info())"
   ]
  },
  {
   "cell_type": "code",
   "execution_count": 25,
   "metadata": {},
   "outputs": [
    {
     "name": "stdout",
     "output_type": "stream",
     "text": [
      "(821, 63)\n",
      "(274, 63)\n"
     ]
    }
   ],
   "source": [
    "X, Xtest, y, ytest = train_test_split(data3.drop(['SalePrice'], axis = 1), data3.SalePrice, test_size=0.25, random_state=333)\n",
    "print(X.shape)\n",
    "print(Xtest.shape)"
   ]
  },
  {
   "cell_type": "code",
   "execution_count": 26,
   "metadata": {},
   "outputs": [
    {
     "name": "stdout",
     "output_type": "stream",
     "text": [
      "Root mean squared logarithmic error: 0.13461674925213246\n"
     ]
    }
   ],
   "source": [
    "from sklearn.linear_model import LinearRegression, Ridge\n",
    "from sklearn.metrics import mean_squared_error\n",
    "# Linear Regression\n",
    "ols = LinearRegression()\n",
    "ols.fit(X, y) \n",
    "\n",
    "# Print RMSLE\n",
    "print('Root mean squared logarithmic error:', np.sqrt(mean_squared_error(ols.predict(Xtest), ytest)))"
   ]
  },
  {
   "cell_type": "code",
   "execution_count": 27,
   "metadata": {},
   "outputs": [
    {
     "name": "stdout",
     "output_type": "stream",
     "text": [
      "Root mean squared logarithmic error: 0.229619104960601\n"
     ]
    }
   ],
   "source": [
    "dtr = DecisionTreeRegressor(max_depth=60)\n",
    "dtr.fit(X,y)\n",
    "print('Root mean squared logarithmic error:', np.sqrt(mean_squared_error(dtr.predict(Xtest), ytest)))"
   ]
  },
  {
   "cell_type": "code",
   "execution_count": 28,
   "metadata": {},
   "outputs": [],
   "source": [
    "depths = range(1,50)\n",
    "train_acc = []\n",
    "test_acc = []\n",
    "for depth in depths:\n",
    "    dtr = DecisionTreeRegressor(max_depth=depth)\n",
    "    dtr.fit(X,y)\n",
    "    train_acc.append(np.sqrt(mean_squared_error(dtr.predict(X), y)))\n",
    "    test_acc.append(np.sqrt(mean_squared_error(dtr.predict(Xtest), ytest)))"
   ]
  },
  {
   "cell_type": "code",
   "execution_count": 29,
   "metadata": {},
   "outputs": [
    {
     "data": {
      "text/plain": [
       "<matplotlib.legend.Legend at 0x7f09d88684e0>"
      ]
     },
     "execution_count": 29,
     "metadata": {},
     "output_type": "execute_result"
    },
    {
     "data": {
      "image/png": "[encoded data removed]",
      "text/plain": [
       "<Figure size 432x432 with 1 Axes>"
      ]
     },
     "metadata": {
      "needs_background": "light"
     },
     "output_type": "display_data"
    }
   ],
   "source": [
    "plt.figure(figsize=(6,6))\n",
    "plt.plot(train_acc,'or-')\n",
    "plt.plot(test_acc,'ob-')\n",
    "plt.xlabel('max_depth')\n",
    "plt.ylabel('accuracy')\n",
    "plt.legend(['train', 'test'])"
   ]
  },
  {
   "cell_type": "code",
   "execution_count": 30,
   "metadata": {},
   "outputs": [
    {
     "name": "stdout",
     "output_type": "stream",
     "text": [
      "Root mean squared logarithmic error: 0.2289751183531496\n"
     ]
    },
    {
     "data": {
      "image/png": "[encoded data removed]",
      "text/plain": [
       "<IPython.core.display.Image object>"
      ]
     },
     "metadata": {},
     "output_type": "display_data"
    }
   ],
   "source": [
    "dtr = DecisionTreeRegressor(max_depth=2)\n",
    "dtr.fit(X,y)\n",
    "print('Root mean squared logarithmic error:', np.sqrt(mean_squared_error(dtr.predict(Xtest), ytest)))\n",
    "plotTree(dtr)"
   ]
  },
  {
   "cell_type": "markdown",
   "metadata": {},
   "source": [
    "## Gradient boosted trees"
   ]
  },
  {
   "cell_type": "code",
   "execution_count": 31,
   "metadata": {},
   "outputs": [],
   "source": [
    "from sklearn.ensemble import GradientBoostingRegressor"
   ]
  },
  {
   "cell_type": "code",
   "execution_count": 32,
   "metadata": {},
   "outputs": [
    {
     "name": "stdout",
     "output_type": "stream",
     "text": [
      "      Iter       Train Loss   Remaining Time \n",
      "         1           0.1329           44.42s\n",
      "         2           0.1063           40.52s\n",
      "         3           0.0875           40.48s\n",
      "         4           0.0730           38.39s\n",
      "         5           0.0619           37.79s\n",
      "         6           0.0531           38.50s\n",
      "         7           0.0460           38.20s\n",
      "         8           0.0406           36.64s\n",
      "         9           0.0364           36.72s\n",
      "        10           0.0331           37.29s\n",
      "        20           0.0187           32.35s\n",
      "        30           0.0145           30.08s\n",
      "        40           0.0123           26.88s\n",
      "        50           0.0113           24.48s\n",
      "        60           0.0104           22.90s\n",
      "        70           0.0096           21.73s\n",
      "        80           0.0089           20.90s\n",
      "        90           0.0084           20.23s\n",
      "       100           0.0079           19.72s\n",
      "       200           0.0050           17.74s\n",
      "       300           0.0031           16.72s\n",
      "       400           0.0022           16.39s\n",
      "       500           0.0016           15.99s\n",
      "       600           0.0011           15.88s\n",
      "       700           0.0009           15.64s\n",
      "       800           0.0007           15.58s\n",
      "       900           0.0005           15.30s\n",
      "      1000           0.0004           15.19s\n",
      "      2000           0.0000           13.19s\n",
      "      3000           0.0000           11.46s\n",
      "      4000           0.0000            9.84s\n",
      "      5000           0.0000            8.12s\n",
      "      6000           0.0000            6.44s\n",
      "      7000           0.0000            4.75s\n",
      "      8000           0.0000            3.10s\n",
      "      9000           0.0000            1.43s\n",
      "     10000           0.0000            0.00s\n",
      "Root mean squared logarithmic error (train): 0.00031622595334163535\n",
      "Root mean squared logarithmic error (test): 0.13978421005592612\n"
     ]
    }
   ],
   "source": [
    "gbt = GradientBoostingRegressor(learning_rate=0.2, n_estimators=10000, max_depth=2, verbose=1)\n",
    "gbt.fit(X,y)\n",
    "print('Root mean squared logarithmic error (train):', np.sqrt(mean_squared_error(gbt.predict(X), y)))\n",
    "print('Root mean squared logarithmic error (test):', np.sqrt(mean_squared_error(gbt.predict(Xtest), ytest)))"
   ]
  },
  {
   "cell_type": "markdown",
   "metadata": {},
   "source": [
    "## XGBoost\n",
    "\n",
    "* Can be installed using `pip install xgboost`,\n",
    "* the list of hyperparameters can be found here: https://xgboost.readthedocs.io/en/latest/parameter.html#parameters-for-tree-booster"
   ]
  },
  {
   "cell_type": "code",
   "execution_count": 33,
   "metadata": {},
   "outputs": [
    {
     "ename": "ModuleNotFoundError",
     "evalue": "No module named 'xgboost'",
     "output_type": "error",
     "traceback": [
      "\u001b[0;31m---------------------------------------------------------------------------\u001b[0m",
      "\u001b[0;31mModuleNotFoundError\u001b[0m                       Traceback (most recent call last)",
      "\u001b[0;32m<ipython-input-33-e528dc1a32ff>\u001b[0m in \u001b[0;36m<module>\u001b[0;34m\u001b[0m\n\u001b[0;32m----> 1\u001b[0;31m \u001b[0;32mimport\u001b[0m \u001b[0mxgboost\u001b[0m\u001b[0;34m\u001b[0m\u001b[0;34m\u001b[0m\u001b[0m\n\u001b[0m",
      "\u001b[0;31mModuleNotFoundError\u001b[0m: No module named 'xgboost'"
     ]
    }
   ],
   "source": [
    "import xgboost"
   ]
  },
  {
   "cell_type": "code",
   "execution_count": null,
   "metadata": {},
   "outputs": [],
   "source": [
    "xgbt = xgboost.sklearn.XGBRegressor(max_depth=3, n_estimators=1000, verbosity=1, objective='reg:linear', gamma=0.1, learning_rate=0.1)\n",
    "xgbt.fit(X,y)\n",
    "print('Root mean squared logarithmic error (train):', np.sqrt(mean_squared_error(xgbt.predict(X), y)))\n",
    "print('Root mean squared logarithmic error (test):', np.sqrt(mean_squared_error(xgbt.predict(Xtest), ytest)))"
   ]
  },
  {
   "cell_type": "code",
   "execution_count": null,
   "metadata": {},
   "outputs": [],
   "source": []
  },
  {
   "cell_type": "code",
   "execution_count": null,
   "metadata": {},
   "outputs": [],
   "source": []
  },
  {
   "cell_type": "code",
   "execution_count": null,
   "metadata": {},
   "outputs": [],
   "source": []
  }
 ],
 "metadata": {
  "kernelspec": {
   "display_name": "Python 3",
   "language": "python",
   "name": "python3"
  },
  "language_info": {
   "codemirror_mode": {
    "name": "ipython",
    "version": 3
   },
   "file_extension": ".py",
   "mimetype": "text/x-python",
   "name": "python",
   "nbconvert_exporter": "python",
   "pygments_lexer": "ipython3",
   "version": "3.7.2"
  }
 },
 "nbformat": 4,
 "nbformat_minor": 2
}
